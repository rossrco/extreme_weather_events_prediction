{
 "cells": [
  {
   "cell_type": "code",
   "execution_count": 1,
   "metadata": {},
   "outputs": [],
   "source": [
    "import os\n",
    "import json\n",
    "import google.cloud.bigquery as bq\n",
    "import pandas as pd"
   ]
  },
  {
   "cell_type": "code",
   "execution_count": 2,
   "metadata": {},
   "outputs": [],
   "source": [
    "bq_client = bq.Client()"
   ]
  },
  {
   "cell_type": "code",
   "execution_count": 3,
   "metadata": {},
   "outputs": [],
   "source": [
    "sql_dir_path = os.path.join(os.getcwd(), '..', 'sql')\n",
    "query_path = os.path.join(sql_dir_path, 'stations_hrcn_data.sql')\n",
    "\n",
    "with open(query_path, 'r') as f:\n",
    "    query = f.read()"
   ]
  },
  {
   "cell_type": "code",
   "execution_count": 4,
   "metadata": {},
   "outputs": [],
   "source": [
    "combined_data = bq_client.query(query).result().to_dataframe()"
   ]
  },
  {
   "cell_type": "code",
   "execution_count": 5,
   "metadata": {},
   "outputs": [
    {
     "name": "stdout",
     "output_type": "stream",
     "text": [
      "<class 'pandas.core.frame.DataFrame'>\n",
      "RangeIndex: 907 entries, 0 to 906\n",
      "Data columns (total 6 columns):\n",
      "date              907 non-null object\n",
      "sid               907 non-null object\n",
      "avg_lat           907 non-null float64\n",
      "avg_lng           907 non-null float64\n",
      "avg_wind_speed    666 non-null float64\n",
      "avg_temp          852 non-null float64\n",
      "dtypes: float64(4), object(2)\n",
      "memory usage: 42.6+ KB\n"
     ]
    }
   ],
   "source": [
    "combined_data.info()"
   ]
  },
  {
   "cell_type": "code",
   "execution_count": 7,
   "metadata": {},
   "outputs": [
    {
     "data": {
      "text/plain": [
       "sid\n",
       "2000103S10095    14\n",
       "2000125N06136    14\n",
       "2000202N12131    15\n",
       "2000205N10260    15\n",
       "2000056S17152    16\n",
       "2000333S11140    17\n",
       "2000245N14157    19\n",
       "2000083S17102    19\n",
       "2000217N11342    23\n",
       "2000032S11116    29\n",
       "Name: avg_wind_speed, dtype: int64"
      ]
     },
     "execution_count": 7,
     "metadata": {},
     "output_type": "execute_result"
    }
   ],
   "source": [
    "(combined_data[combined_data.avg_temp.notna()]\n",
    " .avg_wind_speed.isnull()\n",
    " .groupby(combined_data.sid)\n",
    " .count()\n",
    " .sort_values()\n",
    " .tail(10))"
   ]
  },
  {
   "cell_type": "code",
   "execution_count": 9,
   "metadata": {},
   "outputs": [
    {
     "data": {
      "text/html": [
       "<div>\n",
       "<style scoped>\n",
       "    .dataframe tbody tr th:only-of-type {\n",
       "        vertical-align: middle;\n",
       "    }\n",
       "\n",
       "    .dataframe tbody tr th {\n",
       "        vertical-align: top;\n",
       "    }\n",
       "\n",
       "    .dataframe thead th {\n",
       "        text-align: right;\n",
       "    }\n",
       "</style>\n",
       "<table border=\"1\" class=\"dataframe\">\n",
       "  <thead>\n",
       "    <tr style=\"text-align: right;\">\n",
       "      <th></th>\n",
       "      <th>date</th>\n",
       "      <th>sid</th>\n",
       "      <th>avg_lat</th>\n",
       "      <th>avg_lng</th>\n",
       "      <th>avg_wind_speed</th>\n",
       "      <th>avg_temp</th>\n",
       "    </tr>\n",
       "  </thead>\n",
       "  <tbody>\n",
       "    <tr>\n",
       "      <th>48</th>\n",
       "      <td>2000-01-28</td>\n",
       "      <td>2000025S15056</td>\n",
       "      <td>-17.046750</td>\n",
       "      <td>56.868187</td>\n",
       "      <td>96.25</td>\n",
       "      <td>249.0</td>\n",
       "    </tr>\n",
       "    <tr>\n",
       "      <th>49</th>\n",
       "      <td>2000-01-28</td>\n",
       "      <td>2000024S12100</td>\n",
       "      <td>-18.852175</td>\n",
       "      <td>109.505000</td>\n",
       "      <td>62.50</td>\n",
       "      <td>249.0</td>\n",
       "    </tr>\n",
       "    <tr>\n",
       "      <th>50</th>\n",
       "      <td>2000-01-28</td>\n",
       "      <td>2000023S15172</td>\n",
       "      <td>-34.882313</td>\n",
       "      <td>200.310625</td>\n",
       "      <td>55.00</td>\n",
       "      <td>249.0</td>\n",
       "    </tr>\n",
       "    <tr>\n",
       "      <th>51</th>\n",
       "      <td>2000-01-29</td>\n",
       "      <td>2000025S15056</td>\n",
       "      <td>-19.701625</td>\n",
       "      <td>54.760900</td>\n",
       "      <td>88.75</td>\n",
       "      <td>244.0</td>\n",
       "    </tr>\n",
       "    <tr>\n",
       "      <th>52</th>\n",
       "      <td>2000-01-29</td>\n",
       "      <td>2000024S12100</td>\n",
       "      <td>-20.804058</td>\n",
       "      <td>107.100583</td>\n",
       "      <td>66.25</td>\n",
       "      <td>244.0</td>\n",
       "    </tr>\n",
       "  </tbody>\n",
       "</table>\n",
       "</div>"
      ],
      "text/plain": [
       "          date            sid    avg_lat     avg_lng  avg_wind_speed  avg_temp\n",
       "48  2000-01-28  2000025S15056 -17.046750   56.868187           96.25     249.0\n",
       "49  2000-01-28  2000024S12100 -18.852175  109.505000           62.50     249.0\n",
       "50  2000-01-28  2000023S15172 -34.882313  200.310625           55.00     249.0\n",
       "51  2000-01-29  2000025S15056 -19.701625   54.760900           88.75     244.0\n",
       "52  2000-01-29  2000024S12100 -20.804058  107.100583           66.25     244.0"
      ]
     },
     "execution_count": 9,
     "metadata": {},
     "output_type": "execute_result"
    }
   ],
   "source": [
    "combined_data.dropna().head()"
   ]
  },
  {
   "cell_type": "code",
   "execution_count": null,
   "metadata": {},
   "outputs": [],
   "source": []
  }
 ],
 "metadata": {
  "kernelspec": {
   "display_name": "Python 3",
   "language": "python",
   "name": "python3"
  },
  "language_info": {
   "codemirror_mode": {
    "name": "ipython",
    "version": 3
   },
   "file_extension": ".py",
   "mimetype": "text/x-python",
   "name": "python",
   "nbconvert_exporter": "python",
   "pygments_lexer": "ipython3",
   "version": "3.7.6"
  },
  "widgets": {
   "application/vnd.jupyter.widget-state+json": {
    "state": {},
    "version_major": 2,
    "version_minor": 0
   }
  }
 },
 "nbformat": 4,
 "nbformat_minor": 4
}
