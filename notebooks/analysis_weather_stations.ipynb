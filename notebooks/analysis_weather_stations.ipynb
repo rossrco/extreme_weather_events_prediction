{
 "cells": [
  {
   "cell_type": "code",
   "execution_count": 59,
   "metadata": {},
   "outputs": [],
   "source": [
    "import google.cloud.bigquery as bq\n",
    "import pandas as pd\n",
    "from keplergl import KeplerGl"
   ]
  },
  {
   "cell_type": "code",
   "execution_count": 2,
   "metadata": {},
   "outputs": [],
   "source": [
    "%load_ext google.cloud.bigquery"
   ]
  },
  {
   "cell_type": "code",
   "execution_count": null,
   "metadata": {},
   "outputs": [],
   "source": []
  },
  {
   "cell_type": "code",
   "execution_count": 3,
   "metadata": {},
   "outputs": [],
   "source": [
    "%%bigquery stations\n",
    "\n",
    "SELECT\n",
    "stat.id,\n",
    "LEFT(stat.id, 2) AS country,\n",
    "stat.state,\n",
    "stat.name,\n",
    "stat.latitude,\n",
    "stat.longitude,\n",
    "inv.element,\n",
    "inv.firstyear,\n",
    "inv.lastyear \n",
    "FROM `bigquery-public-data.ghcn_d.ghcnd_stations` stat\n",
    "LEFT JOIN `bigquery-public-data.ghcn_d.ghcnd_inventory` inv ON stat.id = inv.id\n",
    "  AND inv.element IN (\"TMAX\", \"TMIN\", \"ACMC\", \"AWDR\", \"AWND\", \"EVAP\", \"MXPN\")\n",
    "WHERE\n",
    "ST_CONTAINS(\n",
    "  ST_MAKEPOLYGON(\n",
    "    ST_MAKELINE(\n",
    "      ARRAY(\n",
    "              select ST_GEOGPOINT(-12.950869, 53.431059) union all\n",
    "              select ST_GEOGPOINT(-10.342842, 35.002107) union all\n",
    "              select ST_GEOGPOINT(-19.931662, 13.986127) union all\n",
    "              select ST_GEOGPOINT(-9.352620, 0.0)        union all\n",
    "              select ST_GEOGPOINT(-49.101915, 0)         union all\n",
    "              select ST_GEOGPOINT(-71.903541, 13.516013) union all\n",
    "              select ST_GEOGPOINT(-76.957330, 34.883146)\n",
    "            )\n",
    "          )\n",
    "        )\n",
    "  ,ST_GEOGPOINT(stat.longitude, stat.latitude)) IS TRUE\n",
    "ORDER BY stat.id"
   ]
  },
  {
   "cell_type": "code",
   "execution_count": 4,
   "metadata": {},
   "outputs": [
    {
     "data": {
      "text/html": [
       "<div>\n",
       "<style scoped>\n",
       "    .dataframe tbody tr th:only-of-type {\n",
       "        vertical-align: middle;\n",
       "    }\n",
       "\n",
       "    .dataframe tbody tr th {\n",
       "        vertical-align: top;\n",
       "    }\n",
       "\n",
       "    .dataframe thead th {\n",
       "        text-align: right;\n",
       "    }\n",
       "</style>\n",
       "<table border=\"1\" class=\"dataframe\">\n",
       "  <thead>\n",
       "    <tr style=\"text-align: right;\">\n",
       "      <th></th>\n",
       "      <th>id</th>\n",
       "      <th>country</th>\n",
       "      <th>state</th>\n",
       "      <th>name</th>\n",
       "      <th>latitude</th>\n",
       "      <th>longitude</th>\n",
       "      <th>element</th>\n",
       "      <th>firstyear</th>\n",
       "      <th>lastyear</th>\n",
       "    </tr>\n",
       "  </thead>\n",
       "  <tbody>\n",
       "    <tr>\n",
       "      <th>0</th>\n",
       "      <td>ACW00011647</td>\n",
       "      <td>AC</td>\n",
       "      <td></td>\n",
       "      <td>ST JOHNS</td>\n",
       "      <td>17.1333</td>\n",
       "      <td>-61.7833</td>\n",
       "      <td>TMAX</td>\n",
       "      <td>1961.0</td>\n",
       "      <td>1961.0</td>\n",
       "    </tr>\n",
       "    <tr>\n",
       "      <th>1</th>\n",
       "      <td>ACW00011647</td>\n",
       "      <td>AC</td>\n",
       "      <td></td>\n",
       "      <td>ST JOHNS</td>\n",
       "      <td>17.1333</td>\n",
       "      <td>-61.7833</td>\n",
       "      <td>TMIN</td>\n",
       "      <td>1961.0</td>\n",
       "      <td>1961.0</td>\n",
       "    </tr>\n",
       "    <tr>\n",
       "      <th>2</th>\n",
       "      <td>BB000078954</td>\n",
       "      <td>BB</td>\n",
       "      <td></td>\n",
       "      <td>GRANTLEY ADAMS</td>\n",
       "      <td>13.0670</td>\n",
       "      <td>-59.4830</td>\n",
       "      <td>TMAX</td>\n",
       "      <td>1944.0</td>\n",
       "      <td>2018.0</td>\n",
       "    </tr>\n",
       "    <tr>\n",
       "      <th>3</th>\n",
       "      <td>BB000078954</td>\n",
       "      <td>BB</td>\n",
       "      <td></td>\n",
       "      <td>GRANTLEY ADAMS</td>\n",
       "      <td>13.0670</td>\n",
       "      <td>-59.4830</td>\n",
       "      <td>TMIN</td>\n",
       "      <td>1944.0</td>\n",
       "      <td>2018.0</td>\n",
       "    </tr>\n",
       "    <tr>\n",
       "      <th>4</th>\n",
       "      <td>BDM00078016</td>\n",
       "      <td>BD</td>\n",
       "      <td></td>\n",
       "      <td>L F WADE INTL AP KINDLEY FLD</td>\n",
       "      <td>32.3667</td>\n",
       "      <td>-64.6833</td>\n",
       "      <td>TMAX</td>\n",
       "      <td>1949.0</td>\n",
       "      <td>2020.0</td>\n",
       "    </tr>\n",
       "  </tbody>\n",
       "</table>\n",
       "</div>"
      ],
      "text/plain": [
       "            id country state                            name  latitude  \\\n",
       "0  ACW00011647      AC        ST JOHNS                         17.1333   \n",
       "1  ACW00011647      AC        ST JOHNS                         17.1333   \n",
       "2  BB000078954      BB        GRANTLEY ADAMS                   13.0670   \n",
       "3  BB000078954      BB        GRANTLEY ADAMS                   13.0670   \n",
       "4  BDM00078016      BD        L F WADE INTL AP KINDLEY FLD     32.3667   \n",
       "\n",
       "   longitude element  firstyear  lastyear  \n",
       "0   -61.7833    TMAX     1961.0    1961.0  \n",
       "1   -61.7833    TMIN     1961.0    1961.0  \n",
       "2   -59.4830    TMAX     1944.0    2018.0  \n",
       "3   -59.4830    TMIN     1944.0    2018.0  \n",
       "4   -64.6833    TMAX     1949.0    2020.0  "
      ]
     },
     "execution_count": 4,
     "metadata": {},
     "output_type": "execute_result"
    }
   ],
   "source": [
    "stations.head()"
   ]
  },
  {
   "cell_type": "code",
   "execution_count": 31,
   "metadata": {},
   "outputs": [
    {
     "name": "stdout",
     "output_type": "stream",
     "text": [
      "There are 24 countries and 511 stations within the polygon.\n"
     ]
    }
   ],
   "source": [
    "n_stations = len(stations.id.unique())\n",
    "n_coountries = len(stations.country.unique())\n",
    "\n",
    "print(f'There are {n_coountries} countries and {n_stations} stations within the polygon.')"
   ]
  },
  {
   "cell_type": "code",
   "execution_count": 36,
   "metadata": {},
   "outputs": [],
   "source": [
    "p_cntr_element = pd.pivot_table(data=stations,\n",
    "                                index='country',\n",
    "                                columns='element',\n",
    "                                values=['firstyear', 'lastyear'],\n",
    "                                aggfunc={'firstyear': 'min', 'lastyear': 'max'})"
   ]
  },
  {
   "cell_type": "code",
   "execution_count": 37,
   "metadata": {},
   "outputs": [
    {
     "data": {
      "text/html": [
       "<div>\n",
       "<style scoped>\n",
       "    .dataframe tbody tr th:only-of-type {\n",
       "        vertical-align: middle;\n",
       "    }\n",
       "\n",
       "    .dataframe tbody tr th {\n",
       "        vertical-align: top;\n",
       "    }\n",
       "\n",
       "    .dataframe thead tr th {\n",
       "        text-align: left;\n",
       "    }\n",
       "\n",
       "    .dataframe thead tr:last-of-type th {\n",
       "        text-align: right;\n",
       "    }\n",
       "</style>\n",
       "<table border=\"1\" class=\"dataframe\">\n",
       "  <thead>\n",
       "    <tr>\n",
       "      <th></th>\n",
       "      <th colspan=\"5\" halign=\"left\">firstyear</th>\n",
       "      <th colspan=\"5\" halign=\"left\">lastyear</th>\n",
       "    </tr>\n",
       "    <tr>\n",
       "      <th>element</th>\n",
       "      <th>AWND</th>\n",
       "      <th>EVAP</th>\n",
       "      <th>MXPN</th>\n",
       "      <th>TMAX</th>\n",
       "      <th>TMIN</th>\n",
       "      <th>AWND</th>\n",
       "      <th>EVAP</th>\n",
       "      <th>MXPN</th>\n",
       "      <th>TMAX</th>\n",
       "      <th>TMIN</th>\n",
       "    </tr>\n",
       "    <tr>\n",
       "      <th>country</th>\n",
       "      <th></th>\n",
       "      <th></th>\n",
       "      <th></th>\n",
       "      <th></th>\n",
       "      <th></th>\n",
       "      <th></th>\n",
       "      <th></th>\n",
       "      <th></th>\n",
       "      <th></th>\n",
       "      <th></th>\n",
       "    </tr>\n",
       "  </thead>\n",
       "  <tbody>\n",
       "    <tr>\n",
       "      <th>AC</th>\n",
       "      <td>NaN</td>\n",
       "      <td>NaN</td>\n",
       "      <td>NaN</td>\n",
       "      <td>1961.0</td>\n",
       "      <td>1961.0</td>\n",
       "      <td>NaN</td>\n",
       "      <td>NaN</td>\n",
       "      <td>NaN</td>\n",
       "      <td>1961.0</td>\n",
       "      <td>1961.0</td>\n",
       "    </tr>\n",
       "    <tr>\n",
       "      <th>BB</th>\n",
       "      <td>NaN</td>\n",
       "      <td>NaN</td>\n",
       "      <td>NaN</td>\n",
       "      <td>1944.0</td>\n",
       "      <td>1944.0</td>\n",
       "      <td>NaN</td>\n",
       "      <td>NaN</td>\n",
       "      <td>NaN</td>\n",
       "      <td>2018.0</td>\n",
       "      <td>2018.0</td>\n",
       "    </tr>\n",
       "    <tr>\n",
       "      <th>BD</th>\n",
       "      <td>1986.0</td>\n",
       "      <td>NaN</td>\n",
       "      <td>NaN</td>\n",
       "      <td>1945.0</td>\n",
       "      <td>1945.0</td>\n",
       "      <td>1995.0</td>\n",
       "      <td>NaN</td>\n",
       "      <td>NaN</td>\n",
       "      <td>2020.0</td>\n",
       "      <td>2020.0</td>\n",
       "    </tr>\n",
       "    <tr>\n",
       "      <th>BF</th>\n",
       "      <td>NaN</td>\n",
       "      <td>NaN</td>\n",
       "      <td>NaN</td>\n",
       "      <td>1954.0</td>\n",
       "      <td>1954.0</td>\n",
       "      <td>NaN</td>\n",
       "      <td>NaN</td>\n",
       "      <td>NaN</td>\n",
       "      <td>1960.0</td>\n",
       "      <td>1960.0</td>\n",
       "    </tr>\n",
       "    <tr>\n",
       "      <th>BR</th>\n",
       "      <td>NaN</td>\n",
       "      <td>NaN</td>\n",
       "      <td>NaN</td>\n",
       "      <td>1974.0</td>\n",
       "      <td>1973.0</td>\n",
       "      <td>NaN</td>\n",
       "      <td>NaN</td>\n",
       "      <td>NaN</td>\n",
       "      <td>1974.0</td>\n",
       "      <td>1975.0</td>\n",
       "    </tr>\n",
       "    <tr>\n",
       "      <th>CA</th>\n",
       "      <td>NaN</td>\n",
       "      <td>NaN</td>\n",
       "      <td>NaN</td>\n",
       "      <td>1874.0</td>\n",
       "      <td>1874.0</td>\n",
       "      <td>NaN</td>\n",
       "      <td>NaN</td>\n",
       "      <td>NaN</td>\n",
       "      <td>2020.0</td>\n",
       "      <td>2020.0</td>\n",
       "    </tr>\n",
       "    <tr>\n",
       "      <th>CV</th>\n",
       "      <td>NaN</td>\n",
       "      <td>NaN</td>\n",
       "      <td>NaN</td>\n",
       "      <td>1973.0</td>\n",
       "      <td>1973.0</td>\n",
       "      <td>NaN</td>\n",
       "      <td>NaN</td>\n",
       "      <td>NaN</td>\n",
       "      <td>2020.0</td>\n",
       "      <td>2020.0</td>\n",
       "    </tr>\n",
       "    <tr>\n",
       "      <th>DO</th>\n",
       "      <td>NaN</td>\n",
       "      <td>NaN</td>\n",
       "      <td>NaN</td>\n",
       "      <td>1971.0</td>\n",
       "      <td>1971.0</td>\n",
       "      <td>NaN</td>\n",
       "      <td>NaN</td>\n",
       "      <td>NaN</td>\n",
       "      <td>1973.0</td>\n",
       "      <td>1973.0</td>\n",
       "    </tr>\n",
       "    <tr>\n",
       "      <th>DR</th>\n",
       "      <td>NaN</td>\n",
       "      <td>NaN</td>\n",
       "      <td>NaN</td>\n",
       "      <td>1943.0</td>\n",
       "      <td>1943.0</td>\n",
       "      <td>NaN</td>\n",
       "      <td>NaN</td>\n",
       "      <td>NaN</td>\n",
       "      <td>2020.0</td>\n",
       "      <td>2020.0</td>\n",
       "    </tr>\n",
       "    <tr>\n",
       "      <th>FG</th>\n",
       "      <td>NaN</td>\n",
       "      <td>NaN</td>\n",
       "      <td>NaN</td>\n",
       "      <td>1950.0</td>\n",
       "      <td>1950.0</td>\n",
       "      <td>NaN</td>\n",
       "      <td>NaN</td>\n",
       "      <td>NaN</td>\n",
       "      <td>2020.0</td>\n",
       "      <td>2020.0</td>\n",
       "    </tr>\n",
       "    <tr>\n",
       "      <th>GP</th>\n",
       "      <td>NaN</td>\n",
       "      <td>NaN</td>\n",
       "      <td>NaN</td>\n",
       "      <td>1951.0</td>\n",
       "      <td>1951.0</td>\n",
       "      <td>NaN</td>\n",
       "      <td>NaN</td>\n",
       "      <td>NaN</td>\n",
       "      <td>2018.0</td>\n",
       "      <td>2018.0</td>\n",
       "    </tr>\n",
       "    <tr>\n",
       "      <th>GY</th>\n",
       "      <td>NaN</td>\n",
       "      <td>NaN</td>\n",
       "      <td>NaN</td>\n",
       "      <td>1949.0</td>\n",
       "      <td>1949.0</td>\n",
       "      <td>NaN</td>\n",
       "      <td>NaN</td>\n",
       "      <td>NaN</td>\n",
       "      <td>2020.0</td>\n",
       "      <td>2020.0</td>\n",
       "    </tr>\n",
       "    <tr>\n",
       "      <th>MB</th>\n",
       "      <td>NaN</td>\n",
       "      <td>NaN</td>\n",
       "      <td>NaN</td>\n",
       "      <td>1958.0</td>\n",
       "      <td>1958.0</td>\n",
       "      <td>NaN</td>\n",
       "      <td>NaN</td>\n",
       "      <td>NaN</td>\n",
       "      <td>2018.0</td>\n",
       "      <td>2018.0</td>\n",
       "    </tr>\n",
       "    <tr>\n",
       "      <th>NN</th>\n",
       "      <td>NaN</td>\n",
       "      <td>NaN</td>\n",
       "      <td>NaN</td>\n",
       "      <td>1976.0</td>\n",
       "      <td>1982.0</td>\n",
       "      <td>NaN</td>\n",
       "      <td>NaN</td>\n",
       "      <td>NaN</td>\n",
       "      <td>2008.0</td>\n",
       "      <td>2008.0</td>\n",
       "    </tr>\n",
       "    <tr>\n",
       "      <th>NS</th>\n",
       "      <td>NaN</td>\n",
       "      <td>NaN</td>\n",
       "      <td>NaN</td>\n",
       "      <td>1973.0</td>\n",
       "      <td>1973.0</td>\n",
       "      <td>NaN</td>\n",
       "      <td>NaN</td>\n",
       "      <td>NaN</td>\n",
       "      <td>2014.0</td>\n",
       "      <td>2013.0</td>\n",
       "    </tr>\n",
       "    <tr>\n",
       "      <th>PO</th>\n",
       "      <td>NaN</td>\n",
       "      <td>NaN</td>\n",
       "      <td>NaN</td>\n",
       "      <td>1949.0</td>\n",
       "      <td>1949.0</td>\n",
       "      <td>NaN</td>\n",
       "      <td>NaN</td>\n",
       "      <td>NaN</td>\n",
       "      <td>2020.0</td>\n",
       "      <td>2020.0</td>\n",
       "    </tr>\n",
       "    <tr>\n",
       "      <th>RQ</th>\n",
       "      <td>1984.0</td>\n",
       "      <td>1908.0</td>\n",
       "      <td>1963.0</td>\n",
       "      <td>1898.0</td>\n",
       "      <td>1898.0</td>\n",
       "      <td>2020.0</td>\n",
       "      <td>2020.0</td>\n",
       "      <td>2018.0</td>\n",
       "      <td>2020.0</td>\n",
       "      <td>2020.0</td>\n",
       "    </tr>\n",
       "    <tr>\n",
       "      <th>SP</th>\n",
       "      <td>NaN</td>\n",
       "      <td>NaN</td>\n",
       "      <td>NaN</td>\n",
       "      <td>1919.0</td>\n",
       "      <td>1919.0</td>\n",
       "      <td>NaN</td>\n",
       "      <td>NaN</td>\n",
       "      <td>NaN</td>\n",
       "      <td>2020.0</td>\n",
       "      <td>2020.0</td>\n",
       "    </tr>\n",
       "    <tr>\n",
       "      <th>ST</th>\n",
       "      <td>NaN</td>\n",
       "      <td>NaN</td>\n",
       "      <td>NaN</td>\n",
       "      <td>1948.0</td>\n",
       "      <td>1948.0</td>\n",
       "      <td>NaN</td>\n",
       "      <td>NaN</td>\n",
       "      <td>NaN</td>\n",
       "      <td>1957.0</td>\n",
       "      <td>1957.0</td>\n",
       "    </tr>\n",
       "    <tr>\n",
       "      <th>TD</th>\n",
       "      <td>NaN</td>\n",
       "      <td>NaN</td>\n",
       "      <td>NaN</td>\n",
       "      <td>1945.0</td>\n",
       "      <td>1945.0</td>\n",
       "      <td>NaN</td>\n",
       "      <td>NaN</td>\n",
       "      <td>NaN</td>\n",
       "      <td>2020.0</td>\n",
       "      <td>2020.0</td>\n",
       "    </tr>\n",
       "    <tr>\n",
       "      <th>UC</th>\n",
       "      <td>NaN</td>\n",
       "      <td>NaN</td>\n",
       "      <td>NaN</td>\n",
       "      <td>1973.0</td>\n",
       "      <td>1973.0</td>\n",
       "      <td>NaN</td>\n",
       "      <td>NaN</td>\n",
       "      <td>NaN</td>\n",
       "      <td>2008.0</td>\n",
       "      <td>2008.0</td>\n",
       "    </tr>\n",
       "    <tr>\n",
       "      <th>US</th>\n",
       "      <td>1984.0</td>\n",
       "      <td>NaN</td>\n",
       "      <td>NaN</td>\n",
       "      <td>1893.0</td>\n",
       "      <td>1893.0</td>\n",
       "      <td>2020.0</td>\n",
       "      <td>NaN</td>\n",
       "      <td>NaN</td>\n",
       "      <td>2020.0</td>\n",
       "      <td>2020.0</td>\n",
       "    </tr>\n",
       "    <tr>\n",
       "      <th>VE</th>\n",
       "      <td>NaN</td>\n",
       "      <td>NaN</td>\n",
       "      <td>NaN</td>\n",
       "      <td>1959.0</td>\n",
       "      <td>1959.0</td>\n",
       "      <td>NaN</td>\n",
       "      <td>NaN</td>\n",
       "      <td>NaN</td>\n",
       "      <td>2018.0</td>\n",
       "      <td>2018.0</td>\n",
       "    </tr>\n",
       "    <tr>\n",
       "      <th>VQ</th>\n",
       "      <td>1994.0</td>\n",
       "      <td>1972.0</td>\n",
       "      <td>1972.0</td>\n",
       "      <td>1948.0</td>\n",
       "      <td>1948.0</td>\n",
       "      <td>2020.0</td>\n",
       "      <td>2014.0</td>\n",
       "      <td>2014.0</td>\n",
       "      <td>2020.0</td>\n",
       "      <td>2020.0</td>\n",
       "    </tr>\n",
       "  </tbody>\n",
       "</table>\n",
       "</div>"
      ],
      "text/plain": [
       "        firstyear                                 lastyear                  \\\n",
       "element      AWND    EVAP    MXPN    TMAX    TMIN     AWND    EVAP    MXPN   \n",
       "country                                                                      \n",
       "AC            NaN     NaN     NaN  1961.0  1961.0      NaN     NaN     NaN   \n",
       "BB            NaN     NaN     NaN  1944.0  1944.0      NaN     NaN     NaN   \n",
       "BD         1986.0     NaN     NaN  1945.0  1945.0   1995.0     NaN     NaN   \n",
       "BF            NaN     NaN     NaN  1954.0  1954.0      NaN     NaN     NaN   \n",
       "BR            NaN     NaN     NaN  1974.0  1973.0      NaN     NaN     NaN   \n",
       "CA            NaN     NaN     NaN  1874.0  1874.0      NaN     NaN     NaN   \n",
       "CV            NaN     NaN     NaN  1973.0  1973.0      NaN     NaN     NaN   \n",
       "DO            NaN     NaN     NaN  1971.0  1971.0      NaN     NaN     NaN   \n",
       "DR            NaN     NaN     NaN  1943.0  1943.0      NaN     NaN     NaN   \n",
       "FG            NaN     NaN     NaN  1950.0  1950.0      NaN     NaN     NaN   \n",
       "GP            NaN     NaN     NaN  1951.0  1951.0      NaN     NaN     NaN   \n",
       "GY            NaN     NaN     NaN  1949.0  1949.0      NaN     NaN     NaN   \n",
       "MB            NaN     NaN     NaN  1958.0  1958.0      NaN     NaN     NaN   \n",
       "NN            NaN     NaN     NaN  1976.0  1982.0      NaN     NaN     NaN   \n",
       "NS            NaN     NaN     NaN  1973.0  1973.0      NaN     NaN     NaN   \n",
       "PO            NaN     NaN     NaN  1949.0  1949.0      NaN     NaN     NaN   \n",
       "RQ         1984.0  1908.0  1963.0  1898.0  1898.0   2020.0  2020.0  2018.0   \n",
       "SP            NaN     NaN     NaN  1919.0  1919.0      NaN     NaN     NaN   \n",
       "ST            NaN     NaN     NaN  1948.0  1948.0      NaN     NaN     NaN   \n",
       "TD            NaN     NaN     NaN  1945.0  1945.0      NaN     NaN     NaN   \n",
       "UC            NaN     NaN     NaN  1973.0  1973.0      NaN     NaN     NaN   \n",
       "US         1984.0     NaN     NaN  1893.0  1893.0   2020.0     NaN     NaN   \n",
       "VE            NaN     NaN     NaN  1959.0  1959.0      NaN     NaN     NaN   \n",
       "VQ         1994.0  1972.0  1972.0  1948.0  1948.0   2020.0  2014.0  2014.0   \n",
       "\n",
       "                         \n",
       "element    TMAX    TMIN  \n",
       "country                  \n",
       "AC       1961.0  1961.0  \n",
       "BB       2018.0  2018.0  \n",
       "BD       2020.0  2020.0  \n",
       "BF       1960.0  1960.0  \n",
       "BR       1974.0  1975.0  \n",
       "CA       2020.0  2020.0  \n",
       "CV       2020.0  2020.0  \n",
       "DO       1973.0  1973.0  \n",
       "DR       2020.0  2020.0  \n",
       "FG       2020.0  2020.0  \n",
       "GP       2018.0  2018.0  \n",
       "GY       2020.0  2020.0  \n",
       "MB       2018.0  2018.0  \n",
       "NN       2008.0  2008.0  \n",
       "NS       2014.0  2013.0  \n",
       "PO       2020.0  2020.0  \n",
       "RQ       2020.0  2020.0  \n",
       "SP       2020.0  2020.0  \n",
       "ST       1957.0  1957.0  \n",
       "TD       2020.0  2020.0  \n",
       "UC       2008.0  2008.0  \n",
       "US       2020.0  2020.0  \n",
       "VE       2018.0  2018.0  \n",
       "VQ       2020.0  2020.0  "
      ]
     },
     "execution_count": 37,
     "metadata": {},
     "output_type": "execute_result"
    }
   ],
   "source": [
    "p_cntr_element"
   ]
  },
  {
   "cell_type": "markdown",
   "metadata": {},
   "source": [
    "It looks like the most reliable data is `TMIN` and `TMAX`. In addition, it seems like the stations in Puerto Rico (RQ) and The United States Virgin Islands (VQ) contain a full set of data for all required elements. We may try to incorporate those anyways in our analysis."
   ]
  },
  {
   "cell_type": "code",
   "execution_count": 44,
   "metadata": {},
   "outputs": [
    {
     "name": "stdout",
     "output_type": "stream",
     "text": [
      "We will exclude stations from the following countries: AC, BF, BR, CV, DO, NN, NS, ST, UC because of incomplete data.\n"
     ]
    }
   ],
   "source": [
    "min_last_year = 2015\n",
    "max_first_year = 1960\n",
    "\n",
    "cntr_to_exclude = p_cntr_element[(p_cntr_element[('lastyear', 'TMIN')] < min_last_year)\n",
    "                                 | (p_cntr_element[('firstyear', 'TMIN')] > max_first_year)].index.tolist()\n",
    "\n",
    "print(f'We will exclude stations from the following countries: {(\", \").join(cntr_to_exclude)} because of incomplete data.')"
   ]
  },
  {
   "cell_type": "code",
   "execution_count": 52,
   "metadata": {},
   "outputs": [
    {
     "name": "stdout",
     "output_type": "stream",
     "text": [
      "20 stations have been discarded due to insufficient data.\n"
     ]
    }
   ],
   "source": [
    "sel_stations = stations[~stations.country.isin(cntr_to_exclude)].copy()\n",
    "print(f'{n_stations - len(sel_stations.id.unique())} stations have been discarded due to insufficient data.')"
   ]
  },
  {
   "cell_type": "code",
   "execution_count": 55,
   "metadata": {},
   "outputs": [],
   "source": [
    "unq_sel_stations = sel_stations[['id', 'latitude', 'longitude']].drop_duplicates().copy()"
   ]
  },
  {
   "cell_type": "code",
   "execution_count": 64,
   "metadata": {},
   "outputs": [],
   "source": [
    "polygon = {\"type\": \"Polygon\",\n",
    "           \"coordinates\":[[[-12.950869, 53.43105],\n",
    "                           [-10.342842, 35.002107],\n",
    "                           [-19.931662, 13.986127],\n",
    "                           [-9.352620, 0.0],\n",
    "                           [-49.101915, 0],\n",
    "                           [-71.903541, 13.516013],\n",
    "                           [-76.957330, 34.883146]]]}"
   ]
  },
  {
   "cell_type": "code",
   "execution_count": 65,
   "metadata": {},
   "outputs": [
    {
     "name": "stdout",
     "output_type": "stream",
     "text": [
      "User Guide: https://docs.kepler.gl/docs/keplergl-jupyter\n"
     ]
    }
   ],
   "source": [
    "widget = KeplerGl(height=480, data={'stations': unq_sel_stations, 'poly': polygon})"
   ]
  },
  {
   "cell_type": "code",
   "execution_count": 66,
   "metadata": {},
   "outputs": [
    {
     "data": {
      "application/vnd.jupyter.widget-view+json": {
       "model_id": "8eb0f82f40784488968c153166bcf79a",
       "version_major": 2,
       "version_minor": 0
      },
      "text/plain": [
       "KeplerGl(data={'stations':               id  latitude  longitude\n",
       "2    BB000078954   13.0670   -59.4830\n",
       "4    BD…"
      ]
     },
     "metadata": {},
     "output_type": "display_data"
    }
   ],
   "source": [
    "widget"
   ]
  },
  {
   "cell_type": "code",
   "execution_count": null,
   "metadata": {},
   "outputs": [],
   "source": []
  }
 ],
 "metadata": {
  "kernelspec": {
   "display_name": "Python 3",
   "language": "python",
   "name": "python3"
  },
  "language_info": {
   "codemirror_mode": {
    "name": "ipython",
    "version": 3
   },
   "file_extension": ".py",
   "mimetype": "text/x-python",
   "name": "python",
   "nbconvert_exporter": "python",
   "pygments_lexer": "ipython3",
   "version": "3.7.6"
  },
  "widgets": {
   "application/vnd.jupyter.widget-state+json": {
    "state": {
     "45109ce5b1464a28bc6fe3441be3310e": {
      "model_module": "@jupyter-widgets/base",
      "model_module_version": "1.2.0",
      "model_name": "LayoutModel",
      "state": {}
     },
     "6a95ace9ad62481c93737dd551c96b2e": {
      "model_module": "@jupyter-widgets/base",
      "model_module_version": "1.2.0",
      "model_name": "LayoutModel",
      "state": {}
     },
     "82b77367d32d4baa80134c0bc6c123a1": {
      "model_module": "keplergl-jupyter",
      "model_module_version": "^0.2.0",
      "model_name": "KeplerGlModal",
      "state": {
       "_model_module_version": "^0.2.0",
       "_view_module_version": "^0.2.0",
       "config": {
        "config": {
         "mapState": {
          "bearing": 8.16,
          "dragRotate": true,
          "isSplit": false,
          "latitude": 20.988359102081002,
          "longitude": -45.96377226074044,
          "pitch": 52.37246772554278,
          "zoom": 3.219245934470727
         },
         "mapStyle": {
          "mapStyles": {},
          "styleType": "dark",
          "threeDBuildingColor": [
           9.665468314072013,
           17.18305478057247,
           31.1442867897876
          ],
          "topLayerGroups": {},
          "visibleLayerGroups": {
           "3d building": false,
           "border": false,
           "building": true,
           "label": true,
           "land": true,
           "road": true,
           "water": true
          }
         },
         "visState": {
          "animationConfig": {
           "currentTime": null,
           "speed": 1
          },
          "filters": [],
          "interactionConfig": {
           "brush": {
            "enabled": false,
            "size": 0.5
           },
           "coordinate": {
            "enabled": false
           },
           "geocoder": {
            "enabled": false
           },
           "tooltip": {
            "enabled": true,
            "fieldsToShow": {
             "stations": [
              "id"
             ]
            }
           }
          },
          "layerBlending": "normal",
          "layers": [
           {
            "config": {
             "color": [
              254,
              242,
              26
             ],
             "columns": {
              "altitude": null,
              "lat": "latitude",
              "lng": "longitude"
             },
             "dataId": "stations",
             "hidden": false,
             "isVisible": true,
             "label": "Point",
             "textLabel": [
              {
               "alignment": "center",
               "anchor": "start",
               "color": [
                255,
                255,
                255
               ],
               "field": null,
               "offset": [
                0,
                0
               ],
               "size": 18
              }
             ],
             "visConfig": {
              "colorRange": {
               "category": "Uber",
               "colors": [
                "#5A1846",
                "#900C3F",
                "#C70039",
                "#E3611C",
                "#F1920E",
                "#FFC300"
               ],
               "name": "Global Warming",
               "type": "sequential"
              },
              "filled": true,
              "fixedRadius": false,
              "opacity": 0.5,
              "outline": true,
              "radius": 15,
              "radiusRange": [
               0,
               50
              ],
              "strokeColor": [
               214,
               113,
               0
              ],
              "strokeColorRange": {
               "category": "Uber",
               "colors": [
                "#5A1846",
                "#900C3F",
                "#C70039",
                "#E3611C",
                "#F1920E",
                "#FFC300"
               ],
               "name": "Global Warming",
               "type": "sequential"
              },
              "thickness": 1
             }
            },
            "id": "8zkyfas",
            "type": "point",
            "visualChannels": {
             "colorField": null,
             "colorScale": "quantile",
             "sizeField": null,
             "sizeScale": "linear",
             "strokeColorField": null,
             "strokeColorScale": "quantile"
            }
           }
          ],
          "splitMaps": []
         }
        },
        "version": "v1"
       },
       "data": {
        "stations": {
         "columns": [
          "id",
          "latitude",
          "longitude"
         ],
         "data": [
          [
           "BB000078954",
           13.067,
           -59.483
          ],
          [
           "BDM00078016",
           32.3667,
           -64.6833
          ],
          [
           "BDW00013602",
           32.2667,
           -64.85
          ],
          [
           "CA008204700",
           43.9333,
           -60.0167
          ],
          [
           "CA008204701",
           43.9333,
           -60
          ],
          [
           "CA008204702",
           43.9667,
           -59.7667
          ],
          [
           "CA008400100",
           47.3,
           -54
          ],
          [
           "CA008400102",
           47.3,
           -54
          ],
          [
           "CA008400104",
           47.3,
           -54
          ],
          [
           "CA008400225",
           47.4167,
           -53.2333
          ],
          [
           "CA008400666",
           46.8833,
           -53.9667
          ],
          [
           "CA008400810",
           47,
           -55.1667
          ],
          [
           "CA008400850",
           47.1,
           -52.9333
          ],
          [
           "CA008400QJK",
           47.5833,
           -53.3167
          ],
          [
           "CA008401000",
           46.6667,
           -53.0833
          ],
          [
           "CA008401070",
           46.8667,
           -52.95
          ],
          [
           "CA008401075",
           47.7333,
           -53.2333
          ],
          [
           "CA008401150",
           47.2,
           -52.95
          ],
          [
           "CA008401200",
           47.2167,
           -53.55
          ],
          [
           "CA008401250",
           47.2167,
           -53.5
          ],
          [
           "CA008401251",
           47.2333,
           -53.5167
          ],
          [
           "CA008401528",
           47.2667,
           -53.9167
          ],
          [
           "CA008402075",
           47.7167,
           -53.15
          ],
          [
           "CA008402076",
           47.6833,
           -53.2
          ],
          [
           "CA008402300",
           47.3833,
           -53.1333
          ],
          [
           "CA008402303",
           47.3833,
           -53.1167
          ],
          [
           "CA008402309",
           47.45,
           -53.1
          ],
          [
           "CA008402310",
           47.3833,
           -53.1333
          ],
          [
           "CA008402516",
           46.8667,
           -55.1333
          ],
          [
           "CA008402568",
           47.6167,
           -52.6667
          ],
          [
           "CA008402569",
           47.4167,
           -53.8167
          ],
          [
           "CA008402590",
           47.3167,
           -53.55
          ],
          [
           "CA008402759",
           47.25,
           -52.85
          ],
          [
           "CA008402873",
           47.6333,
           -52.8333
          ],
          [
           "CA008402874",
           47.1333,
           -53.6667
          ],
          [
           "CA008402925",
           47.4667,
           -52.7167
          ],
          [
           "CA008402950",
           47.2833,
           -52.8167
          ],
          [
           "CA008402956",
           47.2333,
           -54.0167
          ],
          [
           "CA008402957",
           47.4,
           -53.6
          ],
          [
           "CA008402R20",
           47.5333,
           -52.8333
          ],
          [
           "CA008402RB0",
           47.5333,
           -52.85
          ],
          [
           "CA008403044",
           47.65,
           -52.8167
          ],
          [
           "CA008403045",
           47.6167,
           -52.8333
          ],
          [
           "CA008403417",
           46.9167,
           -54.1833
          ],
          [
           "CA008403418",
           46.9167,
           -54.1667
          ],
          [
           "CA008403500",
           47.5667,
           -52.7
          ],
          [
           "CA008403501",
           47.5833,
           -52.7333
          ],
          [
           "CA008403505",
           47.6167,
           -52.75
          ],
          [
           "CA008403506",
           47.6167,
           -52.75
          ],
          [
           "CA008403523",
           47.5667,
           -52.8
          ],
          [
           "CA008403600",
           47.5167,
           -52.7833
          ],
          [
           "CA008403603",
           47.5167,
           -52.7833
          ],
          [
           "CA008403605",
           47.5167,
           -52.7833
          ],
          [
           "CA008403615",
           46.9167,
           -55.3833
          ],
          [
           "CA008403616",
           46.9167,
           -55.3833
          ],
          [
           "CA008403617",
           46.6333,
           -53.5833
          ],
          [
           "CA008403618",
           46.7667,
           -53.6167
          ],
          [
           "CA008403619",
           46.9167,
           -55.3833
          ],
          [
           "CA008403620",
           47.2667,
           -53.3333
          ],
          [
           "CA008403621",
           47.2667,
           -53.2833
          ],
          [
           "CA008403622",
           47.2667,
           -53.2833
          ],
          [
           "CA008403623",
           47.1,
           -55.2
          ],
          [
           "CA008403650",
           47.45,
           -53.0667
          ],
          [
           "CA008403669",
           47.5667,
           -52.6833
          ],
          [
           "CA008403860",
           47.6167,
           -53.7333
          ],
          [
           "CA008403875",
           47.5333,
           -52.9167
          ],
          [
           "CA008403950",
           47.2167,
           -52.85
          ],
          [
           "CA008403971",
           46.7667,
           -53.3667
          ],
          [
           "CA008403FN0",
           47.45,
           -53.0667
          ],
          [
           "CA008404100",
           47.7667,
           -53.2167
          ],
          [
           "CA008404201",
           46.95,
           -55.3833
          ],
          [
           "CA008404234",
           47.4167,
           -53.5333
          ],
          [
           "CA008404235",
           47.3167,
           -53.55
          ],
          [
           "CA00840C616",
           46.9167,
           -53.5667
          ],
          [
           "CA00840K0NC",
           47.1333,
           -54.0667
          ],
          [
           "CA00840KN90",
           47.3333,
           -54.5833
          ],
          [
           "CA1NL000002",
           47.564,
           -52.7134
          ],
          [
           "CA1NL000005",
           47.4535,
           -53.0894
          ],
          [
           "CA1NL000011",
           47.5035,
           -52.7973
          ],
          [
           "CA1NL000014",
           47.4274,
           -53.5195
          ],
          [
           "CA1NL000031",
           46.9099,
           -53.5838
          ],
          [
           "CA1NL000050",
           47.5955,
           -52.6871
          ],
          [
           "CA1NL000063",
           47.1556,
           -53.4722
          ],
          [
           "CA1NL000067",
           47.5582,
           -52.7492
          ],
          [
           "CA1NL000070",
           47.2544,
           -53.9756
          ],
          [
           "CA1NL000072",
           47.5939,
           -52.7288
          ],
          [
           "CA1NL000073",
           47.548,
           -52.8882
          ],
          [
           "CA1NL000079",
           47.5196,
           -52.8284
          ],
          [
           "CAW00014508",
           47.3,
           -54
          ],
          [
           "DRM00078458",
           19.75,
           -70.55
          ],
          [
           "DRM00078479",
           18.567,
           -68.363
          ],
          [
           "DRM00078482",
           18.251,
           -71.12
          ],
          [
           "DRM00078486",
           18.433,
           -69.883
          ],
          [
           "DRW00011650",
           18.5,
           -69.75
          ],
          [
           "FG000081405",
           4.833,
           -52.367
          ],
          [
           "FGM00081401",
           5.5,
           -54.033
          ],
          [
           "FGM00081408",
           3.883,
           -51.8
          ],
          [
           "FGM00081415",
           3.633,
           -54.033
          ],
          [
           "GP000078897",
           16.27,
           -61.6
          ],
          [
           "GPM00078890",
           16.333,
           -61
          ],
          [
           "GPM00078894",
           17.9,
           -62.85
          ],
          [
           "GYM00081001",
           6.8,
           -58.15
          ],
          [
           "GYW00010502",
           6.5,
           -58.25
          ],
          [
           "MBM00078922",
           14.767,
           -60.883
          ],
          [
           "MBM00078925",
           14.591,
           -61.003
          ],
          [
           "PO000008506",
           38.52,
           -28.63
          ],
          [
           "PO000008522",
           32.63,
           -16.8997
          ],
          [
           "POM00008501",
           39.455,
           -31.131
          ],
          [
           "POM00008512",
           37.741,
           -25.698
          ],
          [
           "POM00008515",
           36.971,
           -25.171
          ],
          [
           "POM00008521",
           32.683,
           -16.767
          ],
          [
           "POM00008524",
           33.073,
           -16.35
          ],
          [
           "POW00013201",
           38.7303,
           -27.3217
          ],
          [
           "RQ1PRAC0001",
           18.4414,
           -66.6589
          ],
          [
           "RQ1PRAC0002",
           18.4071,
           -66.7603
          ],
          [
           "RQ1PRAL0002",
           18.4774,
           -67.1437
          ],
          [
           "RQ1PRAL0003",
           18.5083,
           -67.1124
          ],
          [
           "RQ1PRAN0002",
           18.2815,
           -67.1431
          ],
          [
           "RQ1PRCG0001",
           18.2273,
           -66.0543
          ],
          [
           "RQ1PRCG0002",
           18.2223,
           -66.0567
          ],
          [
           "RQ1PRCG0003",
           18.2647,
           -66.0501
          ],
          [
           "RQ1PRCL0001",
           18.3871,
           -65.9976
          ],
          [
           "RQ1PRCR0001",
           18.0813,
           -67.1394
          ],
          [
           "RQ1PRCS0001",
           18.338,
           -66.4706
          ],
          [
           "RQ1PRCY0001",
           18.1333,
           -66.1452
          ],
          [
           "RQ1PRFJ0002",
           18.3394,
           -65.6549
          ],
          [
           "RQ1PRGB0002",
           18.2921,
           -66.1163
          ],
          [
           "RQ1PRGB0003",
           18.3042,
           -66.1313
          ],
          [
           "RQ1PRGM0002",
           17.98,
           -66.1277
          ],
          [
           "RQ1PRHM0001",
           18.1456,
           -65.8093
          ],
          [
           "RQ1PRHT0001",
           18.481,
           -66.808
          ],
          [
           "RQ1PRHT0003",
           18.4867,
           -66.8211
          ],
          [
           "RQ1PRIS0001",
           18.4654,
           -67.0336
          ],
          [
           "RQ1PRIS0002",
           18.4962,
           -67.0191
          ],
          [
           "RQ1PRJD0002",
           18.0281,
           -66.5383
          ],
          [
           "RQ1PRJN0001",
           18.2228,
           -65.9161
          ],
          [
           "RQ1PRLJ0001",
           18.0383,
           -67.0533
          ],
          [
           "RQ1PRLJ0002",
           18.0424,
           -67.0276
          ],
          [
           "RQ1PRLM0001",
           18.2563,
           -67.0035
          ],
          [
           "RQ1PRLQ0001",
           18.3537,
           -65.6924
          ],
          [
           "RQ1PRLR0002",
           18.2733,
           -66.888
          ],
          [
           "RQ1PRLR0004",
           18.2667,
           -66.8274
          ],
          [
           "RQ1PRLR0005",
           18.3225,
           -66.8693
          ],
          [
           "RQ1PRMC0001",
           18.3932,
           -67.1069
          ],
          [
           "RQ1PRMY0003",
           18.2222,
           -67.1274
          ],
          [
           "RQ1PRMY0005",
           18.217,
           -67.1167
          ],
          [
           "RQ1PRPC0001",
           18.0046,
           -66.5891
          ],
          [
           "RQ1PRPC0002",
           18.0318,
           -66.5996
          ],
          [
           "RQ1PRPC0004",
           18.0474,
           -66.6514
          ],
          [
           "RQ1PRPC0005",
           18.0374,
           -66.6017
          ],
          [
           "RQ1PRPC0006",
           18.0125,
           -66.5874
          ],
          [
           "RQ1PRQB0001",
           18.4591,
           -66.9194
          ],
          [
           "RQ1PRRN0001",
           18.2981,
           -67.2272
          ],
          [
           "RQ1PRRN0002",
           18.2998,
           -67.2343
          ],
          [
           "RQ1PRRN0003",
           18.3627,
           -67.2497
          ],
          [
           "RQ1PRRN0004",
           18.3188,
           -67.2178
          ],
          [
           "RQ1PRRN0005",
           18.3543,
           -67.2594
          ],
          [
           "RQ1PRSJ0001",
           18.4061,
           -66.0868
          ],
          [
           "RQ1PRSJ0003",
           18.3915,
           -66.02
          ],
          [
           "RQ1PRSJ0006",
           18.4496,
           -66.0772
          ],
          [
           "RQ1PRSJ0008",
           18.4194,
           -66.0788
          ],
          [
           "RQ1PRSJ0009",
           18.4194,
           -66.0789
          ],
          [
           "RQ1PRSS0001",
           18.3679,
           -66.9885
          ],
          [
           "RQ1PRTR0002",
           18.36,
           -66.03
          ],
          [
           "RQ1PRUT0002",
           18.2684,
           -66.7899
          ],
          [
           "RQ1PRVL0002",
           18.1215,
           -66.4982
          ],
          [
           "RQ1PRVQ0001",
           18.1416,
           -65.4598
          ],
          [
           "RQC00660040",
           18.1469,
           -66.4919
          ],
          [
           "RQC00660053",
           18.1614,
           -66.7222
          ],
          [
           "RQC00660061",
           18.1747,
           -66.7978
          ],
          [
           "RQC00660105",
           18.4333,
           -67.15
          ],
          [
           "RQC00660147",
           17.9667,
           -66.2167
          ],
          [
           "RQC00660152",
           17.9556,
           -66.2222
          ],
          [
           "RQC00660158",
           18.1281,
           -66.2642
          ],
          [
           "RQC00660410",
           18.4533,
           -66.6747
          ],
          [
           "RQC00660426",
           18.3494,
           -66.7525
          ],
          [
           "RQC00660662",
           18.4667,
           -66.5
          ],
          [
           "RQC00660668",
           18.4286,
           -66.5631
          ],
          [
           "RQC00660736",
           18.1667,
           -66.3167
          ],
          [
           "RQC00660842",
           18.4167,
           -66.2
          ],
          [
           "RQC00660849",
           18.3833,
           -66.7833
          ],
          [
           "RQC00660900",
           18.1164,
           -67.1133
          ],
          [
           "RQC00660948",
           17.9906,
           -66.8161
          ],
          [
           "RQC00661123",
           18.0833,
           -67.15
          ],
          [
           "RQC00661142",
           18.2258,
           -66.5039
          ],
          [
           "RQC00661300",
           18.2333,
           -66.0333
          ],
          [
           "RQC00661301",
           18.25,
           -66.0167
          ],
          [
           "RQC00661309",
           18.2333,
           -66.05
          ],
          [
           "RQC00661345",
           18.4725,
           -67.1156
          ],
          [
           "RQC00661423",
           18.45,
           -66.6
          ],
          [
           "RQC00661536",
           18.4,
           -66.2167
          ],
          [
           "RQC00661590",
           18.3792,
           -65.8939
          ],
          [
           "RQC00661623",
           18.2833,
           -66.65
          ],
          [
           "RQC00661634",
           18.1167,
           -66.4833
          ],
          [
           "RQC00661701",
           18.0833,
           -66.1
          ],
          [
           "RQC00661712",
           18.05,
           -66.1167
          ],
          [
           "RQC00661845",
           18.4167,
           -66.1167
          ],
          [
           "RQC00661901",
           18.1189,
           -66.1658
          ],
          [
           "RQC00662316",
           17.9833,
           -66.8167
          ],
          [
           "RQC00662330",
           18.2764,
           -66.5194
          ],
          [
           "RQC00662336",
           18.1547,
           -66.562
          ],
          [
           "RQC00662633",
           18.3069,
           -66.4739
          ],
          [
           "RQC00662634",
           18.1833,
           -66.15
          ],
          [
           "RQC00662723",
           18.0664,
           -66.3781
          ],
          [
           "RQC00662801",
           18.3808,
           -67.1569
          ],
          [
           "RQC00662823",
           18.2667,
           -66.1833
          ],
          [
           "RQC00662825",
           18.2667,
           -66.1833
          ],
          [
           "RQC00662934",
           18.3267,
           -66.3592
          ],
          [
           "RQC00663023",
           18.0836,
           -66.6547
          ],
          [
           "RQC00663145",
           18.3,
           -65.2833
          ],
          [
           "RQC00663409",
           18.4722,
           -66.3058
          ],
          [
           "RQC00663431",
           18.3361,
           -66.6667
          ],
          [
           "RQC00663532",
           17.9728,
           -66.9458
          ],
          [
           "RQC00663657",
           18.3103,
           -65.6631
          ],
          [
           "RQC00663850",
           18.45,
           -66.5833
          ],
          [
           "RQC00663871",
           18.15,
           -66.7333
          ],
          [
           "RQC00663904",
           18.3964,
           -66.9244
          ],
          [
           "RQC00664115",
           18.1167,
           -66.0667
          ],
          [
           "RQC00664126",
           18.0742,
           -66.4967
          ],
          [
           "RQC00664193",
           17.9783,
           -66.0875
          ],
          [
           "RQC00664211",
           18,
           -66.8667
          ],
          [
           "RQC00664260",
           18.1667,
           -66.5333
          ],
          [
           "RQC00664271",
           18.25,
           -65.9667
          ],
          [
           "RQC00664276",
           18.2583,
           -65.9922
          ],
          [
           "RQC00664330",
           18.1242,
           -67.0531
          ],
          [
           "RQC00664331",
           18.2158,
           -67.0883
          ],
          [
           "RQC00664340",
           18.45,
           -66.7667
          ],
          [
           "RQC00664613",
           18.1333,
           -65.8167
          ],
          [
           "RQC00664614",
           18.1506,
           -66.7719
          ],
          [
           "RQC00664677",
           18.1667,
           -66.8833
          ],
          [
           "RQC00664685",
           18.1833,
           -66.9
          ],
          [
           "RQC00664702",
           18.4653,
           -67.0525
          ],
          [
           "RQC00664867",
           18.0717,
           -66.1428
          ],
          [
           "RQC00664910",
           18.215,
           -66.5931
          ],
          [
           "RQC00664911",
           18.2,
           -66.5833
          ],
          [
           "RQC00664976",
           17.9667,
           -66.15
          ],
          [
           "RQC00665020",
           18.0514,
           -66.4986
          ],
          [
           "RQC00665064",
           18.2264,
           -65.9114
          ],
          [
           "RQC00665075",
           18.2333,
           -65.7667
          ],
          [
           "RQC00665097",
           18.0331,
           -67.0722
          ],
          [
           "RQC00665120",
           18.3,
           -65.7833
          ],
          [
           "RQC00665123",
           18.3167,
           -66.1
          ],
          [
           "RQC00665175",
           18.2833,
           -66.8833
          ],
          [
           "RQC00665474",
           18.4333,
           -66.7167
          ],
          [
           "RQC00665693",
           17.9722,
           -67.0461
          ],
          [
           "RQC00665807",
           18.4308,
           -66.4661
          ],
          [
           "RQC00665906",
           18.1833,
           -66.9833
          ],
          [
           "RQC00665908",
           18.1511,
           -66.9889
          ],
          [
           "RQC00665911",
           18.1725,
           -66.9872
          ],
          [
           "RQC00666017",
           18.2167,
           -66.4833
          ],
          [
           "RQC00666050",
           18.0094,
           -65.8989
          ],
          [
           "RQC00666073",
           18.1875,
           -67.1378
          ],
          [
           "RQC00666083",
           18.2539,
           -67.1486
          ],
          [
           "RQC00666128",
           17.9833,
           -66.15
          ],
          [
           "RQC00666250",
           18.0833,
           -67.85
          ],
          [
           "RQC00666255",
           18.0833,
           -67.85
          ],
          [
           "RQC00666258",
           18.0908,
           -67.9442
          ],
          [
           "RQC00666270",
           18.3794,
           -66.5153
          ],
          [
           "RQC00666343",
           18.2972,
           -65.29
          ],
          [
           "RQC00666361",
           18.4736,
           -67.0289
          ],
          [
           "RQC00666390",
           18.3344,
           -66.4078
          ],
          [
           "RQC00666427",
           18.2167,
           -65.6833
          ],
          [
           "RQC00666432",
           18.2333,
           -65.7333
          ],
          [
           "RQC00666440",
           18.2097,
           -66.9956
          ],
          [
           "RQC00666514",
           18.2886,
           -66.3433
          ],
          [
           "RQC00666725",
           18.3169,
           -65.8664
          ],
          [
           "RQC00666730",
           18.385,
           -66.43
          ],
          [
           "RQC00666740",
           18.2833,
           -66.35
          ],
          [
           "RQC00666805",
           18.265,
           -65.7208
          ],
          [
           "RQC00666900",
           18.0025,
           -66.0128
          ],
          [
           "RQC00666904",
           18.0333,
           -66.0333
          ],
          [
           "RQC00666982",
           18.0833,
           -66.7333
          ],
          [
           "RQC00666983",
           18.0586,
           -66.7183
          ],
          [
           "RQC00666992",
           18.2708,
           -65.7592
          ],
          [
           "RQC00667292",
           18.0258,
           -66.5253
          ],
          [
           "RQC00667295",
           17.985,
           -66.6294
          ],
          [
           "RQC00667297",
           18.0167,
           -66.5667
          ],
          [
           "RQC00667348",
           18.0167,
           -66.5167
          ],
          [
           "RQC00667492",
           18.0789,
           -67.1769
          ],
          [
           "RQC00667843",
           18.4719,
           -66.9358
          ],
          [
           "RQC00668122",
           18.3667,
           -67.25
          ],
          [
           "RQC00668126",
           18.3375,
           -67.2497
          ],
          [
           "RQC00668144",
           18.2425,
           -65.785
          ],
          [
           "RQC00668155",
           18.2833,
           -65.7833
          ],
          [
           "RQC00668178",
           18.0333,
           -66.4667
          ],
          [
           "RQC00668245",
           18.3333,
           -65.8167
          ],
          [
           "RQC00668278",
           18.0167,
           -66.35
          ],
          [
           "RQC00668301",
           18.4,
           -66.0667
          ],
          [
           "RQC00668306",
           18.3906,
           -66.0542
          ],
          [
           "RQC00668535",
           18.0833,
           -66.9333
          ],
          [
           "RQC00668536",
           18.0889,
           -66.93
          ],
          [
           "RQC00668623",
           17.9833,
           -66.2333
          ],
          [
           "RQC00668634",
           18.3833,
           -66
          ],
          [
           "RQC00668684",
           18.1333,
           -66.7333
          ],
          [
           "RQC00668745",
           18.2167,
           -65.7333
          ],
          [
           "RQC00668757",
           18.0833,
           -67.1
          ],
          [
           "RQC00668811",
           18.45,
           -66.1
          ],
          [
           "RQC00668814",
           18.4311,
           -65.9917
          ],
          [
           "RQC00668815",
           18.1517,
           -65.9589
          ],
          [
           "RQC00668817",
           18.1,
           -66
          ],
          [
           "RQC00668822",
           18.2,
           -65.9667
          ],
          [
           "RQC00668881",
           18.3469,
           -67.0119
          ],
          [
           "RQC00668940",
           17.9692,
           -66.3772
          ],
          [
           "RQC00668955",
           18.0097,
           -66.8847
          ],
          [
           "RQC00669116",
           18.3578,
           -65.8283
          ],
          [
           "RQC00669415",
           18.4356,
           -66.1678
          ],
          [
           "RQC00669421",
           18.4333,
           -66.2667
          ],
          [
           "RQC00669432",
           18.1731,
           -66.4928
          ],
          [
           "RQC00669466",
           18.1667,
           -66.5167
          ],
          [
           "RQC00669521",
           18.3283,
           -66.0164
          ],
          [
           "RQC00669608",
           18.2617,
           -66.6864
          ],
          [
           "RQC00669763",
           18.1167,
           -65.4167
          ],
          [
           "RQC00669766",
           18.1333,
           -65.4333
          ],
          [
           "RQC00669774",
           18.1094,
           -66.5056
          ],
          [
           "RQC00669829",
           18.0628,
           -65.8733
          ],
          [
           "RQC00669860",
           18.0436,
           -66.8606
          ],
          [
           "RQC00669862",
           18.0167,
           -66.85
          ],
          [
           "RQC00669884",
           17.9833,
           -66.0667
          ],
          [
           "RQW00011603",
           18.4981,
           -67.1294
          ],
          [
           "RQW00011618",
           18.4667,
           -66.1167
          ],
          [
           "RQW00011630",
           18.255,
           -65.6408
          ],
          [
           "RQW00011631",
           18.4667,
           -66.1
          ],
          [
           "RQW00011637",
           17.9667,
           -66.4
          ],
          [
           "RQW00011641",
           18.4325,
           -66.0108
          ],
          [
           "SP000060010",
           28.3089,
           -16.4992
          ],
          [
           "SP000060040",
           28.9517,
           -13.6003
          ],
          [
           "SPE00120197",
           28.4444,
           -13.8631
          ],
          [
           "SPE00120215",
           27.9225,
           -15.3892
          ],
          [
           "SPE00120431",
           27.8189,
           -17.8889
          ],
          [
           "SPE00120449",
           28.6331,
           -17.755
          ],
          [
           "SPE00120458",
           28.4631,
           -16.2553
          ],
          [
           "SPE00120467",
           28.4775,
           -16.3292
          ],
          [
           "SPE00120476",
           28.0475,
           -16.5606
          ],
          [
           "TDM00078962",
           11.15,
           -60.833
          ],
          [
           "TDM00078970",
           10.583,
           -61.35
          ],
          [
           "TDW00011610",
           10.6167,
           -61.2167
          ],
          [
           "TDW00011621",
           10.6833,
           -61.6167
          ],
          [
           "US1NCCN0002",
           34.8796,
           -76.9127
          ],
          [
           "US1NCCN0012",
           34.8679,
           -76.892
          ],
          [
           "US1NCCN0019",
           34.9258,
           -76.7858
          ],
          [
           "US1NCCN0020",
           34.8957,
           -76.9161
          ],
          [
           "US1NCCN0023",
           34.8546,
           -76.7482
          ],
          [
           "US1NCCN0026",
           34.9385,
           -76.8176
          ],
          [
           "US1NCCN0035",
           34.892,
           -76.7666
          ],
          [
           "US1NCCN0059",
           34.9297,
           -76.7234
          ],
          [
           "US1NCCN0076",
           34.8719,
           -76.7564
          ],
          [
           "US1NCCN0093",
           34.8806,
           -76.8862
          ],
          [
           "US1NCCR0001",
           34.7857,
           -76.8633
          ],
          [
           "US1NCCR0002",
           34.8418,
           -76.7515
          ],
          [
           "US1NCCR0003",
           34.738,
           -76.78
          ],
          [
           "US1NCCR0004",
           34.7598,
           -76.5208
          ],
          [
           "US1NCCR0008",
           34.7125,
           -76.6466
          ],
          [
           "US1NCCR0009",
           34.7971,
           -76.6708
          ],
          [
           "US1NCCR0012",
           34.73,
           -76.74
          ],
          [
           "US1NCCR0015",
           34.7421,
           -76.7268
          ],
          [
           "US1NCCR0016",
           34.7302,
           -76.8314
          ],
          [
           "US1NCCR0018",
           34.7811,
           -76.8957
          ],
          [
           "US1NCCR0020",
           34.7315,
           -76.5176
          ],
          [
           "US1NCCR0022",
           34.7396,
           -76.7242
          ],
          [
           "US1NCCR0023",
           34.8513,
           -76.692
          ],
          [
           "US1NCCR0025",
           34.7864,
           -76.7291
          ],
          [
           "US1NCCR0029",
           34.7245,
           -76.7295
          ],
          [
           "US1NCCR0031",
           34.7232,
           -76.5206
          ],
          [
           "US1NCCR0033",
           34.7829,
           -76.904
          ],
          [
           "US1NCCR0040",
           34.7361,
           -76.7831
          ],
          [
           "US1NCCR0043",
           34.6995,
           -76.7216
          ],
          [
           "US1NCCR0045",
           34.7345,
           -76.7725
          ],
          [
           "US1NCCR0053",
           34.7646,
           -76.852
          ],
          [
           "US1NCCR0057",
           34.7766,
           -76.8672
          ],
          [
           "US1NCCR0061",
           34.742,
           -76.7459
          ],
          [
           "US1NCCR0064",
           34.7581,
           -76.5233
          ],
          [
           "US1NCCR0065",
           34.7913,
           -76.4661
          ],
          [
           "US1NCCR0070",
           34.7425,
           -76.6599
          ],
          [
           "US1NCCR0072",
           34.6858,
           -76.8949
          ],
          [
           "US1NCCR0073",
           34.6985,
           -76.7939
          ],
          [
           "US1NCCR0074",
           34.8024,
           -76.8642
          ],
          [
           "US1NCCR0075",
           34.6982,
           -76.8149
          ],
          [
           "US1NCCR0084",
           34.7313,
           -76.7912
          ],
          [
           "US1NCCR0088",
           34.8149,
           -76.6544
          ],
          [
           "US1NCCR0090",
           34.8418,
           -76.6902
          ],
          [
           "US1NCCR0094",
           34.7056,
           -76.5835
          ],
          [
           "US1NCCR0101",
           34.7258,
           -76.7496
          ],
          [
           "US1NCCR0104",
           34.7374,
           -76.8315
          ],
          [
           "US1NCCR0105",
           34.7543,
           -76.6527
          ],
          [
           "US1NCCR0108",
           34.7646,
           -76.553
          ],
          [
           "US1NCCR0114",
           34.9397,
           -76.6286
          ],
          [
           "US1NCCR0120",
           34.6987,
           -76.7497
          ],
          [
           "US1NCCR0121",
           34.7783,
           -76.5145
          ],
          [
           "US1NCCR0129",
           34.7137,
           -76.6493
          ],
          [
           "US1NCCR0130",
           34.6856,
           -76.526
          ],
          [
           "US1NCCR0135",
           35.0003,
           -76.3105
          ],
          [
           "US1NCDR0015",
           35.5518,
           -75.468
          ],
          [
           "US1NCDR0019",
           35.3578,
           -75.5013
          ],
          [
           "US1NCDR0035",
           35.257,
           -75.5843
          ],
          [
           "US1NCDR0036",
           35.2621,
           -75.5237
          ],
          [
           "US1NCDR0041",
           35.2633,
           -75.5912
          ],
          [
           "US1NCDR0051",
           35.5805,
           -75.4646
          ],
          [
           "US1NCDR0063",
           35.2708,
           -75.5343
          ],
          [
           "US1NCHD0002",
           35.1122,
           -75.9782
          ],
          [
           "US1NCHD0004",
           35.1106,
           -75.9839
          ],
          [
           "US1NCHD0011",
           35.1056,
           -75.9864
          ],
          [
           "US1NCHD0012",
           35.1075,
           -75.9872
          ],
          [
           "US1NCHD0013",
           35.5197,
           -76.0048
          ],
          [
           "US1NCHD0014",
           35.1078,
           -75.9693
          ],
          [
           "US1NCPM0002",
           35.0226,
           -76.7182
          ],
          [
           "US1NCPM0011",
           35.0007,
           -76.7675
          ],
          [
           "US1NCPM0012",
           35.0929,
           -76.6264
          ],
          [
           "US1NCPM0015",
           34.971,
           -76.817
          ],
          [
           "US1NCPM0026",
           35.0226,
           -76.7109
          ],
          [
           "USC00310356",
           34.6997,
           -76.7381
          ],
          [
           "USC00310626",
           34.7,
           -76.6333
          ],
          [
           "USC00310935",
           35.8333,
           -75.55
          ],
          [
           "USC00311606",
           34.9833,
           -76.3
          ],
          [
           "USC00313333",
           35.2603,
           -75.5825
          ],
          [
           "USC00313336",
           35.2511,
           -75.6047
          ],
          [
           "USC00315077",
           34.95,
           -76.2833
          ],
          [
           "USC00315600",
           35.5,
           -76.0167
          ],
          [
           "USC00315830",
           34.7336,
           -76.7358
          ],
          [
           "USC00316096",
           34.7764,
           -76.8769
          ],
          [
           "USC00316135",
           35.4486,
           -76.2108
          ],
          [
           "USC00316349",
           35.1075,
           -75.9872
          ],
          [
           "USC00316447",
           35.8,
           -75.55
          ],
          [
           "USC00316452",
           35.0333,
           -76.7
          ],
          [
           "USC00318547",
           35.5833,
           -75.8
          ],
          [
           "USR0000NCRN",
           34.7833,
           -76.8667
          ],
          [
           "USW00013745",
           35.2167,
           -75.7167
          ],
          [
           "USW00013754",
           34.9,
           -76.8833
          ],
          [
           "USW00093729",
           35.2325,
           -75.6219
          ],
          [
           "USW00093765",
           34.7336,
           -76.6606
          ],
          [
           "USW00093776",
           34.8833,
           -76.8667
          ],
          [
           "VE000000795",
           11.03,
           -64.28
          ],
          [
           "VE000000883",
           11.05,
           -63.92
          ],
          [
           "VE000000897",
           11.03,
           -63.87
          ],
          [
           "VE000001717",
           10.5,
           -63.6
          ],
          [
           "VE000001721",
           10.98,
           -64.17
          ],
          [
           "VE000001740",
           10.9,
           -64.1
          ],
          [
           "VE000001790",
           10.08,
           -64.57
          ],
          [
           "VE000001869",
           10.25,
           -63.93
          ],
          [
           "VE000001893",
           10.98,
           -63.87
          ],
          [
           "VE000005011",
           10.62,
           -66.58
          ],
          [
           "VE000009311",
           10.53,
           -66.12
          ],
          [
           "VE000080405",
           11.8,
           -66.183
          ],
          [
           "VE000080423",
           10.583,
           -62.317
          ],
          [
           "VEM00080419",
           10.107,
           -64.689
          ],
          [
           "VEM00080420",
           10.45,
           -64.13
          ],
          [
           "VEM00080421",
           10.917,
           -63.967
          ],
          [
           "VEM00080435",
           9.749,
           -63.153
          ],
          [
           "VEM00080478",
           9.017,
           -62.617
          ],
          [
           "VQ1VISC0002",
           17.7572,
           -64.6353
          ],
          [
           "VQ1VISC0003",
           17.7663,
           -64.7497
          ],
          [
           "VQ1VISC0004",
           17.7476,
           -64.7245
          ],
          [
           "VQ1VIST0001",
           18.3255,
           -64.8513
          ],
          [
           "VQC00670100",
           17.7167,
           -64.8167
          ],
          [
           "VQC00670240",
           17.7564,
           -64.8625
          ],
          [
           "VQC00670260",
           17.7333,
           -64.7333
          ],
          [
           "VQC00670480",
           17.7183,
           -64.795
          ],
          [
           "VQC00670820",
           18.3333,
           -64.7333
          ],
          [
           "VQC00671310",
           17.7833,
           -64.8167
          ],
          [
           "VQC00671316",
           18.35,
           -64.7833
          ],
          [
           "VQC00671333",
           17.7167,
           -64.6833
          ],
          [
           "VQC00671348",
           18.3453,
           -64.7606
          ],
          [
           "VQC00671620",
           18.3333,
           -64.9
          ],
          [
           "VQC00671625",
           18.35,
           -64.9333
          ],
          [
           "VQC00671740",
           17.7469,
           -64.7014
          ],
          [
           "VQC00671790",
           18.3492,
           -64.7136
          ],
          [
           "VQC00671810",
           17.7603,
           -64.6128
          ],
          [
           "VQC00671980",
           18.3347,
           -64.7942
          ],
          [
           "VQC00672440",
           18.3667,
           -64.9667
          ],
          [
           "VQC00672551",
           18.3347,
           -64.7594
          ],
          [
           "VQC00672560",
           17.7561,
           -64.6494
          ],
          [
           "VQC00672823",
           18.3333,
           -64.9
          ],
          [
           "VQC00672830",
           18.3667,
           -65
          ],
          [
           "VQC00672850",
           18.3667,
           -64.9833
          ],
          [
           "VQC00672860",
           17.7833,
           -64.7833
          ],
          [
           "VQC00672870",
           17.7419,
           -64.6603
          ],
          [
           "VQC00673150",
           17.75,
           -64.8333
          ],
          [
           "VQC00673220",
           17.7,
           -64.8667
          ],
          [
           "VQC00673380",
           18.3167,
           -64.9167
          ],
          [
           "VQC00673609",
           17.6833,
           -64.85
          ],
          [
           "VQC00673677",
           17.7164,
           -64.7117
          ],
          [
           "VQC00673880",
           17.7667,
           -64.8667
          ],
          [
           "VQC00674600",
           17.7333,
           -64.7833
          ],
          [
           "VQC00674820",
           18.3167,
           -64.7333
          ],
          [
           "VQC00674900",
           17.7706,
           -64.7553
          ],
          [
           "VQC00676000",
           17.7456,
           -64.8883
          ],
          [
           "VQC00677600",
           18.3236,
           -64.8542
          ],
          [
           "VQC00678621",
           17.75,
           -64.6
          ],
          [
           "VQC00679222",
           18.15,
           -64.95
          ],
          [
           "VQC00679450",
           18.3503,
           -64.9167
          ],
          [
           "VQW00011624",
           17.7028,
           -64.8056
          ],
          [
           "VQW00011640",
           18.3331,
           -64.9667
          ]
         ],
         "index": [
          2,
          4,
          7,
          22,
          24,
          26,
          28,
          30,
          32,
          34,
          36,
          38,
          40,
          41,
          43,
          45,
          47,
          49,
          50,
          52,
          54,
          56,
          58,
          60,
          62,
          64,
          66,
          68,
          70,
          72,
          74,
          76,
          78,
          80,
          82,
          84,
          85,
          86,
          88,
          90,
          92,
          94,
          96,
          98,
          100,
          102,
          104,
          106,
          108,
          110,
          112,
          114,
          116,
          118,
          120,
          122,
          124,
          126,
          128,
          130,
          132,
          134,
          136,
          138,
          140,
          142,
          143,
          144,
          146,
          148,
          150,
          151,
          153,
          155,
          157,
          159,
          161,
          162,
          163,
          164,
          165,
          166,
          167,
          168,
          169,
          170,
          171,
          172,
          173,
          183,
          185,
          187,
          189,
          191,
          193,
          195,
          197,
          199,
          201,
          203,
          205,
          207,
          209,
          211,
          213,
          219,
          221,
          223,
          225,
          227,
          229,
          231,
          233,
          235,
          236,
          237,
          238,
          239,
          240,
          241,
          242,
          243,
          244,
          245,
          246,
          247,
          248,
          249,
          250,
          251,
          252,
          253,
          254,
          255,
          256,
          257,
          258,
          259,
          260,
          261,
          262,
          263,
          264,
          265,
          266,
          267,
          268,
          269,
          270,
          271,
          272,
          273,
          274,
          275,
          276,
          277,
          278,
          279,
          280,
          281,
          282,
          283,
          284,
          285,
          286,
          287,
          288,
          289,
          290,
          291,
          295,
          297,
          299,
          302,
          304,
          306,
          308,
          309,
          310,
          312,
          314,
          315,
          317,
          318,
          319,
          320,
          322,
          324,
          325,
          326,
          328,
          329,
          331,
          332,
          333,
          335,
          336,
          337,
          339,
          340,
          342,
          344,
          346,
          349,
          350,
          352,
          354,
          356,
          360,
          361,
          363,
          365,
          367,
          368,
          370,
          372,
          374,
          375,
          376,
          377,
          379,
          380,
          382,
          384,
          388,
          389,
          390,
          391,
          393,
          395,
          396,
          397,
          401,
          403,
          405,
          407,
          408,
          410,
          412,
          413,
          417,
          419,
          420,
          422,
          423,
          425,
          427,
          428,
          430,
          431,
          432,
          434,
          436,
          438,
          439,
          440,
          442,
          444,
          445,
          447,
          448,
          449,
          450,
          452,
          454,
          455,
          457,
          459,
          460,
          461,
          462,
          464,
          465,
          466,
          468,
          472,
          473,
          475,
          476,
          477,
          479,
          480,
          482,
          483,
          484,
          485,
          486,
          487,
          489,
          493,
          494,
          495,
          496,
          497,
          498,
          499,
          501,
          503,
          505,
          506,
          508,
          509,
          511,
          512,
          513,
          514,
          516,
          518,
          520,
          521,
          523,
          525,
          527,
          529,
          530,
          534,
          535,
          536,
          537,
          539,
          541,
          544,
          548,
          550,
          553,
          555,
          557,
          559,
          561,
          563,
          565,
          567,
          569,
          575,
          577,
          579,
          581,
          585,
          586,
          587,
          588,
          589,
          590,
          591,
          592,
          593,
          594,
          595,
          596,
          597,
          598,
          599,
          600,
          601,
          602,
          603,
          604,
          605,
          606,
          607,
          608,
          609,
          610,
          611,
          612,
          613,
          614,
          615,
          616,
          617,
          618,
          619,
          620,
          621,
          622,
          623,
          624,
          625,
          626,
          627,
          628,
          629,
          630,
          631,
          632,
          633,
          634,
          635,
          636,
          637,
          638,
          639,
          640,
          641,
          642,
          643,
          644,
          645,
          646,
          647,
          648,
          649,
          650,
          651,
          652,
          653,
          654,
          655,
          656,
          657,
          659,
          661,
          663,
          665,
          667,
          669,
          670,
          672,
          674,
          676,
          678,
          680,
          682,
          684,
          686,
          688,
          690,
          693,
          696,
          699,
          701,
          702,
          703,
          704,
          705,
          706,
          707,
          708,
          709,
          710,
          711,
          712,
          714,
          716,
          718,
          720,
          722,
          724,
          726,
          727,
          728,
          729,
          730,
          731,
          733,
          734,
          738,
          739,
          740,
          742,
          743,
          745,
          747,
          749,
          751,
          752,
          753,
          755,
          757,
          758,
          759,
          760,
          761,
          763,
          764,
          765,
          766,
          767,
          769,
          770,
          771,
          772,
          773,
          775,
          776,
          777,
          779,
          781,
          783,
          784,
          787
         ]
        }
       },
       "height": 480,
       "layout": "IPY_MODEL_e5137b4cbd754cdcbdae5157d91e7737",
       "value": "Hello World!"
      }
     },
     "8c6f00fd1fa047179d57baca1434ff41": {
      "model_module": "keplergl-jupyter",
      "model_module_version": "^0.2.0",
      "model_name": "KeplerGlModal",
      "state": {
       "_model_module_version": "^0.2.0",
       "_view_module_version": "^0.2.0",
       "config": {
        "config": {
         "mapState": {
          "bearing": 0,
          "dragRotate": false,
          "isSplit": false,
          "latitude": 25.69985,
          "longitude": -45.2582,
          "pitch": 0,
          "zoom": 3
         },
         "mapStyle": {
          "mapStyles": {},
          "styleType": "dark",
          "threeDBuildingColor": [
           9.665468314072013,
           17.18305478057247,
           31.1442867897876
          ],
          "topLayerGroups": {},
          "visibleLayerGroups": {
           "3d building": false,
           "border": false,
           "building": true,
           "label": true,
           "land": true,
           "road": true,
           "water": true
          }
         },
         "visState": {
          "animationConfig": {
           "currentTime": null,
           "speed": 1
          },
          "filters": [],
          "interactionConfig": {
           "brush": {
            "enabled": false,
            "size": 0.5
           },
           "coordinate": {
            "enabled": false
           },
           "geocoder": {
            "enabled": false
           },
           "tooltip": {
            "enabled": true,
            "fieldsToShow": {
             "stations": [
              "id"
             ]
            }
           }
          },
          "layerBlending": "normal",
          "layers": [
           {
            "config": {
             "color": [
              18,
              147,
              154
             ],
             "columns": {
              "altitude": null,
              "lat": "latitude",
              "lng": "longitude"
             },
             "dataId": "stations",
             "hidden": false,
             "isVisible": true,
             "label": "Point",
             "textLabel": [
              {
               "alignment": "center",
               "anchor": "start",
               "color": [
                255,
                255,
                255
               ],
               "field": null,
               "offset": [
                0,
                0
               ],
               "size": 18
              }
             ],
             "visConfig": {
              "colorRange": {
               "category": "Uber",
               "colors": [
                "#5A1846",
                "#900C3F",
                "#C70039",
                "#E3611C",
                "#F1920E",
                "#FFC300"
               ],
               "name": "Global Warming",
               "type": "sequential"
              },
              "filled": true,
              "fixedRadius": false,
              "opacity": 0.8,
              "outline": false,
              "radius": 10,
              "radiusRange": [
               0,
               50
              ],
              "strokeColor": null,
              "strokeColorRange": {
               "category": "Uber",
               "colors": [
                "#5A1846",
                "#900C3F",
                "#C70039",
                "#E3611C",
                "#F1920E",
                "#FFC300"
               ],
               "name": "Global Warming",
               "type": "sequential"
              },
              "thickness": 2
             }
            },
            "id": "ehs2io",
            "type": "point",
            "visualChannels": {
             "colorField": null,
             "colorScale": "quantile",
             "sizeField": null,
             "sizeScale": "linear",
             "strokeColorField": null,
             "strokeColorScale": "quantile"
            }
           }
          ],
          "splitMaps": []
         }
        },
        "version": "v1"
       },
       "data": {
        "stations": {
         "columns": [
          "id",
          "latitude",
          "longitude"
         ],
         "data": [
          [
           "BB000078954",
           13.067,
           -59.483
          ],
          [
           "BDM00078016",
           32.3667,
           -64.6833
          ],
          [
           "BDW00013602",
           32.2667,
           -64.85
          ],
          [
           "CA008204700",
           43.9333,
           -60.0167
          ],
          [
           "CA008204701",
           43.9333,
           -60
          ],
          [
           "CA008204702",
           43.9667,
           -59.7667
          ],
          [
           "CA008400100",
           47.3,
           -54
          ],
          [
           "CA008400102",
           47.3,
           -54
          ],
          [
           "CA008400104",
           47.3,
           -54
          ],
          [
           "CA008400225",
           47.4167,
           -53.2333
          ],
          [
           "CA008400666",
           46.8833,
           -53.9667
          ],
          [
           "CA008400810",
           47,
           -55.1667
          ],
          [
           "CA008400850",
           47.1,
           -52.9333
          ],
          [
           "CA008400QJK",
           47.5833,
           -53.3167
          ],
          [
           "CA008401000",
           46.6667,
           -53.0833
          ],
          [
           "CA008401070",
           46.8667,
           -52.95
          ],
          [
           "CA008401075",
           47.7333,
           -53.2333
          ],
          [
           "CA008401150",
           47.2,
           -52.95
          ],
          [
           "CA008401200",
           47.2167,
           -53.55
          ],
          [
           "CA008401250",
           47.2167,
           -53.5
          ],
          [
           "CA008401251",
           47.2333,
           -53.5167
          ],
          [
           "CA008401528",
           47.2667,
           -53.9167
          ],
          [
           "CA008402075",
           47.7167,
           -53.15
          ],
          [
           "CA008402076",
           47.6833,
           -53.2
          ],
          [
           "CA008402300",
           47.3833,
           -53.1333
          ],
          [
           "CA008402303",
           47.3833,
           -53.1167
          ],
          [
           "CA008402309",
           47.45,
           -53.1
          ],
          [
           "CA008402310",
           47.3833,
           -53.1333
          ],
          [
           "CA008402516",
           46.8667,
           -55.1333
          ],
          [
           "CA008402568",
           47.6167,
           -52.6667
          ],
          [
           "CA008402569",
           47.4167,
           -53.8167
          ],
          [
           "CA008402590",
           47.3167,
           -53.55
          ],
          [
           "CA008402759",
           47.25,
           -52.85
          ],
          [
           "CA008402873",
           47.6333,
           -52.8333
          ],
          [
           "CA008402874",
           47.1333,
           -53.6667
          ],
          [
           "CA008402925",
           47.4667,
           -52.7167
          ],
          [
           "CA008402950",
           47.2833,
           -52.8167
          ],
          [
           "CA008402956",
           47.2333,
           -54.0167
          ],
          [
           "CA008402957",
           47.4,
           -53.6
          ],
          [
           "CA008402R20",
           47.5333,
           -52.8333
          ],
          [
           "CA008402RB0",
           47.5333,
           -52.85
          ],
          [
           "CA008403044",
           47.65,
           -52.8167
          ],
          [
           "CA008403045",
           47.6167,
           -52.8333
          ],
          [
           "CA008403417",
           46.9167,
           -54.1833
          ],
          [
           "CA008403418",
           46.9167,
           -54.1667
          ],
          [
           "CA008403500",
           47.5667,
           -52.7
          ],
          [
           "CA008403501",
           47.5833,
           -52.7333
          ],
          [
           "CA008403505",
           47.6167,
           -52.75
          ],
          [
           "CA008403506",
           47.6167,
           -52.75
          ],
          [
           "CA008403523",
           47.5667,
           -52.8
          ],
          [
           "CA008403600",
           47.5167,
           -52.7833
          ],
          [
           "CA008403603",
           47.5167,
           -52.7833
          ],
          [
           "CA008403605",
           47.5167,
           -52.7833
          ],
          [
           "CA008403615",
           46.9167,
           -55.3833
          ],
          [
           "CA008403616",
           46.9167,
           -55.3833
          ],
          [
           "CA008403617",
           46.6333,
           -53.5833
          ],
          [
           "CA008403618",
           46.7667,
           -53.6167
          ],
          [
           "CA008403619",
           46.9167,
           -55.3833
          ],
          [
           "CA008403620",
           47.2667,
           -53.3333
          ],
          [
           "CA008403621",
           47.2667,
           -53.2833
          ],
          [
           "CA008403622",
           47.2667,
           -53.2833
          ],
          [
           "CA008403623",
           47.1,
           -55.2
          ],
          [
           "CA008403650",
           47.45,
           -53.0667
          ],
          [
           "CA008403669",
           47.5667,
           -52.6833
          ],
          [
           "CA008403860",
           47.6167,
           -53.7333
          ],
          [
           "CA008403875",
           47.5333,
           -52.9167
          ],
          [
           "CA008403950",
           47.2167,
           -52.85
          ],
          [
           "CA008403971",
           46.7667,
           -53.3667
          ],
          [
           "CA008403FN0",
           47.45,
           -53.0667
          ],
          [
           "CA008404100",
           47.7667,
           -53.2167
          ],
          [
           "CA008404201",
           46.95,
           -55.3833
          ],
          [
           "CA008404234",
           47.4167,
           -53.5333
          ],
          [
           "CA008404235",
           47.3167,
           -53.55
          ],
          [
           "CA00840C616",
           46.9167,
           -53.5667
          ],
          [
           "CA00840K0NC",
           47.1333,
           -54.0667
          ],
          [
           "CA00840KN90",
           47.3333,
           -54.5833
          ],
          [
           "CA1NL000002",
           47.564,
           -52.7134
          ],
          [
           "CA1NL000005",
           47.4535,
           -53.0894
          ],
          [
           "CA1NL000011",
           47.5035,
           -52.7973
          ],
          [
           "CA1NL000014",
           47.4274,
           -53.5195
          ],
          [
           "CA1NL000031",
           46.9099,
           -53.5838
          ],
          [
           "CA1NL000050",
           47.5955,
           -52.6871
          ],
          [
           "CA1NL000063",
           47.1556,
           -53.4722
          ],
          [
           "CA1NL000067",
           47.5582,
           -52.7492
          ],
          [
           "CA1NL000070",
           47.2544,
           -53.9756
          ],
          [
           "CA1NL000072",
           47.5939,
           -52.7288
          ],
          [
           "CA1NL000073",
           47.548,
           -52.8882
          ],
          [
           "CA1NL000079",
           47.5196,
           -52.8284
          ],
          [
           "CAW00014508",
           47.3,
           -54
          ],
          [
           "DRM00078458",
           19.75,
           -70.55
          ],
          [
           "DRM00078479",
           18.567,
           -68.363
          ],
          [
           "DRM00078482",
           18.251,
           -71.12
          ],
          [
           "DRM00078486",
           18.433,
           -69.883
          ],
          [
           "DRW00011650",
           18.5,
           -69.75
          ],
          [
           "FG000081405",
           4.833,
           -52.367
          ],
          [
           "FGM00081401",
           5.5,
           -54.033
          ],
          [
           "FGM00081408",
           3.883,
           -51.8
          ],
          [
           "FGM00081415",
           3.633,
           -54.033
          ],
          [
           "GP000078897",
           16.27,
           -61.6
          ],
          [
           "GPM00078890",
           16.333,
           -61
          ],
          [
           "GPM00078894",
           17.9,
           -62.85
          ],
          [
           "GYM00081001",
           6.8,
           -58.15
          ],
          [
           "GYW00010502",
           6.5,
           -58.25
          ],
          [
           "MBM00078922",
           14.767,
           -60.883
          ],
          [
           "MBM00078925",
           14.591,
           -61.003
          ],
          [
           "PO000008506",
           38.52,
           -28.63
          ],
          [
           "PO000008522",
           32.63,
           -16.8997
          ],
          [
           "POM00008501",
           39.455,
           -31.131
          ],
          [
           "POM00008512",
           37.741,
           -25.698
          ],
          [
           "POM00008515",
           36.971,
           -25.171
          ],
          [
           "POM00008521",
           32.683,
           -16.767
          ],
          [
           "POM00008524",
           33.073,
           -16.35
          ],
          [
           "POW00013201",
           38.7303,
           -27.3217
          ],
          [
           "RQ1PRAC0001",
           18.4414,
           -66.6589
          ],
          [
           "RQ1PRAC0002",
           18.4071,
           -66.7603
          ],
          [
           "RQ1PRAL0002",
           18.4774,
           -67.1437
          ],
          [
           "RQ1PRAL0003",
           18.5083,
           -67.1124
          ],
          [
           "RQ1PRAN0002",
           18.2815,
           -67.1431
          ],
          [
           "RQ1PRCG0001",
           18.2273,
           -66.0543
          ],
          [
           "RQ1PRCG0002",
           18.2223,
           -66.0567
          ],
          [
           "RQ1PRCG0003",
           18.2647,
           -66.0501
          ],
          [
           "RQ1PRCL0001",
           18.3871,
           -65.9976
          ],
          [
           "RQ1PRCR0001",
           18.0813,
           -67.1394
          ],
          [
           "RQ1PRCS0001",
           18.338,
           -66.4706
          ],
          [
           "RQ1PRCY0001",
           18.1333,
           -66.1452
          ],
          [
           "RQ1PRFJ0002",
           18.3394,
           -65.6549
          ],
          [
           "RQ1PRGB0002",
           18.2921,
           -66.1163
          ],
          [
           "RQ1PRGB0003",
           18.3042,
           -66.1313
          ],
          [
           "RQ1PRGM0002",
           17.98,
           -66.1277
          ],
          [
           "RQ1PRHM0001",
           18.1456,
           -65.8093
          ],
          [
           "RQ1PRHT0001",
           18.481,
           -66.808
          ],
          [
           "RQ1PRHT0003",
           18.4867,
           -66.8211
          ],
          [
           "RQ1PRIS0001",
           18.4654,
           -67.0336
          ],
          [
           "RQ1PRIS0002",
           18.4962,
           -67.0191
          ],
          [
           "RQ1PRJD0002",
           18.0281,
           -66.5383
          ],
          [
           "RQ1PRJN0001",
           18.2228,
           -65.9161
          ],
          [
           "RQ1PRLJ0001",
           18.0383,
           -67.0533
          ],
          [
           "RQ1PRLJ0002",
           18.0424,
           -67.0276
          ],
          [
           "RQ1PRLM0001",
           18.2563,
           -67.0035
          ],
          [
           "RQ1PRLQ0001",
           18.3537,
           -65.6924
          ],
          [
           "RQ1PRLR0002",
           18.2733,
           -66.888
          ],
          [
           "RQ1PRLR0004",
           18.2667,
           -66.8274
          ],
          [
           "RQ1PRLR0005",
           18.3225,
           -66.8693
          ],
          [
           "RQ1PRMC0001",
           18.3932,
           -67.1069
          ],
          [
           "RQ1PRMY0003",
           18.2222,
           -67.1274
          ],
          [
           "RQ1PRMY0005",
           18.217,
           -67.1167
          ],
          [
           "RQ1PRPC0001",
           18.0046,
           -66.5891
          ],
          [
           "RQ1PRPC0002",
           18.0318,
           -66.5996
          ],
          [
           "RQ1PRPC0004",
           18.0474,
           -66.6514
          ],
          [
           "RQ1PRPC0005",
           18.0374,
           -66.6017
          ],
          [
           "RQ1PRPC0006",
           18.0125,
           -66.5874
          ],
          [
           "RQ1PRQB0001",
           18.4591,
           -66.9194
          ],
          [
           "RQ1PRRN0001",
           18.2981,
           -67.2272
          ],
          [
           "RQ1PRRN0002",
           18.2998,
           -67.2343
          ],
          [
           "RQ1PRRN0003",
           18.3627,
           -67.2497
          ],
          [
           "RQ1PRRN0004",
           18.3188,
           -67.2178
          ],
          [
           "RQ1PRRN0005",
           18.3543,
           -67.2594
          ],
          [
           "RQ1PRSJ0001",
           18.4061,
           -66.0868
          ],
          [
           "RQ1PRSJ0003",
           18.3915,
           -66.02
          ],
          [
           "RQ1PRSJ0006",
           18.4496,
           -66.0772
          ],
          [
           "RQ1PRSJ0008",
           18.4194,
           -66.0788
          ],
          [
           "RQ1PRSJ0009",
           18.4194,
           -66.0789
          ],
          [
           "RQ1PRSS0001",
           18.3679,
           -66.9885
          ],
          [
           "RQ1PRTR0002",
           18.36,
           -66.03
          ],
          [
           "RQ1PRUT0002",
           18.2684,
           -66.7899
          ],
          [
           "RQ1PRVL0002",
           18.1215,
           -66.4982
          ],
          [
           "RQ1PRVQ0001",
           18.1416,
           -65.4598
          ],
          [
           "RQC00660040",
           18.1469,
           -66.4919
          ],
          [
           "RQC00660053",
           18.1614,
           -66.7222
          ],
          [
           "RQC00660061",
           18.1747,
           -66.7978
          ],
          [
           "RQC00660105",
           18.4333,
           -67.15
          ],
          [
           "RQC00660147",
           17.9667,
           -66.2167
          ],
          [
           "RQC00660152",
           17.9556,
           -66.2222
          ],
          [
           "RQC00660158",
           18.1281,
           -66.2642
          ],
          [
           "RQC00660410",
           18.4533,
           -66.6747
          ],
          [
           "RQC00660426",
           18.3494,
           -66.7525
          ],
          [
           "RQC00660662",
           18.4667,
           -66.5
          ],
          [
           "RQC00660668",
           18.4286,
           -66.5631
          ],
          [
           "RQC00660736",
           18.1667,
           -66.3167
          ],
          [
           "RQC00660842",
           18.4167,
           -66.2
          ],
          [
           "RQC00660849",
           18.3833,
           -66.7833
          ],
          [
           "RQC00660900",
           18.1164,
           -67.1133
          ],
          [
           "RQC00660948",
           17.9906,
           -66.8161
          ],
          [
           "RQC00661123",
           18.0833,
           -67.15
          ],
          [
           "RQC00661142",
           18.2258,
           -66.5039
          ],
          [
           "RQC00661300",
           18.2333,
           -66.0333
          ],
          [
           "RQC00661301",
           18.25,
           -66.0167
          ],
          [
           "RQC00661309",
           18.2333,
           -66.05
          ],
          [
           "RQC00661345",
           18.4725,
           -67.1156
          ],
          [
           "RQC00661423",
           18.45,
           -66.6
          ],
          [
           "RQC00661536",
           18.4,
           -66.2167
          ],
          [
           "RQC00661590",
           18.3792,
           -65.8939
          ],
          [
           "RQC00661623",
           18.2833,
           -66.65
          ],
          [
           "RQC00661634",
           18.1167,
           -66.4833
          ],
          [
           "RQC00661701",
           18.0833,
           -66.1
          ],
          [
           "RQC00661712",
           18.05,
           -66.1167
          ],
          [
           "RQC00661845",
           18.4167,
           -66.1167
          ],
          [
           "RQC00661901",
           18.1189,
           -66.1658
          ],
          [
           "RQC00662316",
           17.9833,
           -66.8167
          ],
          [
           "RQC00662330",
           18.2764,
           -66.5194
          ],
          [
           "RQC00662336",
           18.1547,
           -66.562
          ],
          [
           "RQC00662633",
           18.3069,
           -66.4739
          ],
          [
           "RQC00662634",
           18.1833,
           -66.15
          ],
          [
           "RQC00662723",
           18.0664,
           -66.3781
          ],
          [
           "RQC00662801",
           18.3808,
           -67.1569
          ],
          [
           "RQC00662823",
           18.2667,
           -66.1833
          ],
          [
           "RQC00662825",
           18.2667,
           -66.1833
          ],
          [
           "RQC00662934",
           18.3267,
           -66.3592
          ],
          [
           "RQC00663023",
           18.0836,
           -66.6547
          ],
          [
           "RQC00663145",
           18.3,
           -65.2833
          ],
          [
           "RQC00663409",
           18.4722,
           -66.3058
          ],
          [
           "RQC00663431",
           18.3361,
           -66.6667
          ],
          [
           "RQC00663532",
           17.9728,
           -66.9458
          ],
          [
           "RQC00663657",
           18.3103,
           -65.6631
          ],
          [
           "RQC00663850",
           18.45,
           -66.5833
          ],
          [
           "RQC00663871",
           18.15,
           -66.7333
          ],
          [
           "RQC00663904",
           18.3964,
           -66.9244
          ],
          [
           "RQC00664115",
           18.1167,
           -66.0667
          ],
          [
           "RQC00664126",
           18.0742,
           -66.4967
          ],
          [
           "RQC00664193",
           17.9783,
           -66.0875
          ],
          [
           "RQC00664211",
           18,
           -66.8667
          ],
          [
           "RQC00664260",
           18.1667,
           -66.5333
          ],
          [
           "RQC00664271",
           18.25,
           -65.9667
          ],
          [
           "RQC00664276",
           18.2583,
           -65.9922
          ],
          [
           "RQC00664330",
           18.1242,
           -67.0531
          ],
          [
           "RQC00664331",
           18.2158,
           -67.0883
          ],
          [
           "RQC00664340",
           18.45,
           -66.7667
          ],
          [
           "RQC00664613",
           18.1333,
           -65.8167
          ],
          [
           "RQC00664614",
           18.1506,
           -66.7719
          ],
          [
           "RQC00664677",
           18.1667,
           -66.8833
          ],
          [
           "RQC00664685",
           18.1833,
           -66.9
          ],
          [
           "RQC00664702",
           18.4653,
           -67.0525
          ],
          [
           "RQC00664867",
           18.0717,
           -66.1428
          ],
          [
           "RQC00664910",
           18.215,
           -66.5931
          ],
          [
           "RQC00664911",
           18.2,
           -66.5833
          ],
          [
           "RQC00664976",
           17.9667,
           -66.15
          ],
          [
           "RQC00665020",
           18.0514,
           -66.4986
          ],
          [
           "RQC00665064",
           18.2264,
           -65.9114
          ],
          [
           "RQC00665075",
           18.2333,
           -65.7667
          ],
          [
           "RQC00665097",
           18.0331,
           -67.0722
          ],
          [
           "RQC00665120",
           18.3,
           -65.7833
          ],
          [
           "RQC00665123",
           18.3167,
           -66.1
          ],
          [
           "RQC00665175",
           18.2833,
           -66.8833
          ],
          [
           "RQC00665474",
           18.4333,
           -66.7167
          ],
          [
           "RQC00665693",
           17.9722,
           -67.0461
          ],
          [
           "RQC00665807",
           18.4308,
           -66.4661
          ],
          [
           "RQC00665906",
           18.1833,
           -66.9833
          ],
          [
           "RQC00665908",
           18.1511,
           -66.9889
          ],
          [
           "RQC00665911",
           18.1725,
           -66.9872
          ],
          [
           "RQC00666017",
           18.2167,
           -66.4833
          ],
          [
           "RQC00666050",
           18.0094,
           -65.8989
          ],
          [
           "RQC00666073",
           18.1875,
           -67.1378
          ],
          [
           "RQC00666083",
           18.2539,
           -67.1486
          ],
          [
           "RQC00666128",
           17.9833,
           -66.15
          ],
          [
           "RQC00666250",
           18.0833,
           -67.85
          ],
          [
           "RQC00666255",
           18.0833,
           -67.85
          ],
          [
           "RQC00666258",
           18.0908,
           -67.9442
          ],
          [
           "RQC00666270",
           18.3794,
           -66.5153
          ],
          [
           "RQC00666343",
           18.2972,
           -65.29
          ],
          [
           "RQC00666361",
           18.4736,
           -67.0289
          ],
          [
           "RQC00666390",
           18.3344,
           -66.4078
          ],
          [
           "RQC00666427",
           18.2167,
           -65.6833
          ],
          [
           "RQC00666432",
           18.2333,
           -65.7333
          ],
          [
           "RQC00666440",
           18.2097,
           -66.9956
          ],
          [
           "RQC00666514",
           18.2886,
           -66.3433
          ],
          [
           "RQC00666725",
           18.3169,
           -65.8664
          ],
          [
           "RQC00666730",
           18.385,
           -66.43
          ],
          [
           "RQC00666740",
           18.2833,
           -66.35
          ],
          [
           "RQC00666805",
           18.265,
           -65.7208
          ],
          [
           "RQC00666900",
           18.0025,
           -66.0128
          ],
          [
           "RQC00666904",
           18.0333,
           -66.0333
          ],
          [
           "RQC00666982",
           18.0833,
           -66.7333
          ],
          [
           "RQC00666983",
           18.0586,
           -66.7183
          ],
          [
           "RQC00666992",
           18.2708,
           -65.7592
          ],
          [
           "RQC00667292",
           18.0258,
           -66.5253
          ],
          [
           "RQC00667295",
           17.985,
           -66.6294
          ],
          [
           "RQC00667297",
           18.0167,
           -66.5667
          ],
          [
           "RQC00667348",
           18.0167,
           -66.5167
          ],
          [
           "RQC00667492",
           18.0789,
           -67.1769
          ],
          [
           "RQC00667843",
           18.4719,
           -66.9358
          ],
          [
           "RQC00668122",
           18.3667,
           -67.25
          ],
          [
           "RQC00668126",
           18.3375,
           -67.2497
          ],
          [
           "RQC00668144",
           18.2425,
           -65.785
          ],
          [
           "RQC00668155",
           18.2833,
           -65.7833
          ],
          [
           "RQC00668178",
           18.0333,
           -66.4667
          ],
          [
           "RQC00668245",
           18.3333,
           -65.8167
          ],
          [
           "RQC00668278",
           18.0167,
           -66.35
          ],
          [
           "RQC00668301",
           18.4,
           -66.0667
          ],
          [
           "RQC00668306",
           18.3906,
           -66.0542
          ],
          [
           "RQC00668535",
           18.0833,
           -66.9333
          ],
          [
           "RQC00668536",
           18.0889,
           -66.93
          ],
          [
           "RQC00668623",
           17.9833,
           -66.2333
          ],
          [
           "RQC00668634",
           18.3833,
           -66
          ],
          [
           "RQC00668684",
           18.1333,
           -66.7333
          ],
          [
           "RQC00668745",
           18.2167,
           -65.7333
          ],
          [
           "RQC00668757",
           18.0833,
           -67.1
          ],
          [
           "RQC00668811",
           18.45,
           -66.1
          ],
          [
           "RQC00668814",
           18.4311,
           -65.9917
          ],
          [
           "RQC00668815",
           18.1517,
           -65.9589
          ],
          [
           "RQC00668817",
           18.1,
           -66
          ],
          [
           "RQC00668822",
           18.2,
           -65.9667
          ],
          [
           "RQC00668881",
           18.3469,
           -67.0119
          ],
          [
           "RQC00668940",
           17.9692,
           -66.3772
          ],
          [
           "RQC00668955",
           18.0097,
           -66.8847
          ],
          [
           "RQC00669116",
           18.3578,
           -65.8283
          ],
          [
           "RQC00669415",
           18.4356,
           -66.1678
          ],
          [
           "RQC00669421",
           18.4333,
           -66.2667
          ],
          [
           "RQC00669432",
           18.1731,
           -66.4928
          ],
          [
           "RQC00669466",
           18.1667,
           -66.5167
          ],
          [
           "RQC00669521",
           18.3283,
           -66.0164
          ],
          [
           "RQC00669608",
           18.2617,
           -66.6864
          ],
          [
           "RQC00669763",
           18.1167,
           -65.4167
          ],
          [
           "RQC00669766",
           18.1333,
           -65.4333
          ],
          [
           "RQC00669774",
           18.1094,
           -66.5056
          ],
          [
           "RQC00669829",
           18.0628,
           -65.8733
          ],
          [
           "RQC00669860",
           18.0436,
           -66.8606
          ],
          [
           "RQC00669862",
           18.0167,
           -66.85
          ],
          [
           "RQC00669884",
           17.9833,
           -66.0667
          ],
          [
           "RQW00011603",
           18.4981,
           -67.1294
          ],
          [
           "RQW00011618",
           18.4667,
           -66.1167
          ],
          [
           "RQW00011630",
           18.255,
           -65.6408
          ],
          [
           "RQW00011631",
           18.4667,
           -66.1
          ],
          [
           "RQW00011637",
           17.9667,
           -66.4
          ],
          [
           "RQW00011641",
           18.4325,
           -66.0108
          ],
          [
           "SP000060010",
           28.3089,
           -16.4992
          ],
          [
           "SP000060040",
           28.9517,
           -13.6003
          ],
          [
           "SPE00120197",
           28.4444,
           -13.8631
          ],
          [
           "SPE00120215",
           27.9225,
           -15.3892
          ],
          [
           "SPE00120431",
           27.8189,
           -17.8889
          ],
          [
           "SPE00120449",
           28.6331,
           -17.755
          ],
          [
           "SPE00120458",
           28.4631,
           -16.2553
          ],
          [
           "SPE00120467",
           28.4775,
           -16.3292
          ],
          [
           "SPE00120476",
           28.0475,
           -16.5606
          ],
          [
           "TDM00078962",
           11.15,
           -60.833
          ],
          [
           "TDM00078970",
           10.583,
           -61.35
          ],
          [
           "TDW00011610",
           10.6167,
           -61.2167
          ],
          [
           "TDW00011621",
           10.6833,
           -61.6167
          ],
          [
           "US1NCCN0002",
           34.8796,
           -76.9127
          ],
          [
           "US1NCCN0012",
           34.8679,
           -76.892
          ],
          [
           "US1NCCN0019",
           34.9258,
           -76.7858
          ],
          [
           "US1NCCN0020",
           34.8957,
           -76.9161
          ],
          [
           "US1NCCN0023",
           34.8546,
           -76.7482
          ],
          [
           "US1NCCN0026",
           34.9385,
           -76.8176
          ],
          [
           "US1NCCN0035",
           34.892,
           -76.7666
          ],
          [
           "US1NCCN0059",
           34.9297,
           -76.7234
          ],
          [
           "US1NCCN0076",
           34.8719,
           -76.7564
          ],
          [
           "US1NCCN0093",
           34.8806,
           -76.8862
          ],
          [
           "US1NCCR0001",
           34.7857,
           -76.8633
          ],
          [
           "US1NCCR0002",
           34.8418,
           -76.7515
          ],
          [
           "US1NCCR0003",
           34.738,
           -76.78
          ],
          [
           "US1NCCR0004",
           34.7598,
           -76.5208
          ],
          [
           "US1NCCR0008",
           34.7125,
           -76.6466
          ],
          [
           "US1NCCR0009",
           34.7971,
           -76.6708
          ],
          [
           "US1NCCR0012",
           34.73,
           -76.74
          ],
          [
           "US1NCCR0015",
           34.7421,
           -76.7268
          ],
          [
           "US1NCCR0016",
           34.7302,
           -76.8314
          ],
          [
           "US1NCCR0018",
           34.7811,
           -76.8957
          ],
          [
           "US1NCCR0020",
           34.7315,
           -76.5176
          ],
          [
           "US1NCCR0022",
           34.7396,
           -76.7242
          ],
          [
           "US1NCCR0023",
           34.8513,
           -76.692
          ],
          [
           "US1NCCR0025",
           34.7864,
           -76.7291
          ],
          [
           "US1NCCR0029",
           34.7245,
           -76.7295
          ],
          [
           "US1NCCR0031",
           34.7232,
           -76.5206
          ],
          [
           "US1NCCR0033",
           34.7829,
           -76.904
          ],
          [
           "US1NCCR0040",
           34.7361,
           -76.7831
          ],
          [
           "US1NCCR0043",
           34.6995,
           -76.7216
          ],
          [
           "US1NCCR0045",
           34.7345,
           -76.7725
          ],
          [
           "US1NCCR0053",
           34.7646,
           -76.852
          ],
          [
           "US1NCCR0057",
           34.7766,
           -76.8672
          ],
          [
           "US1NCCR0061",
           34.742,
           -76.7459
          ],
          [
           "US1NCCR0064",
           34.7581,
           -76.5233
          ],
          [
           "US1NCCR0065",
           34.7913,
           -76.4661
          ],
          [
           "US1NCCR0070",
           34.7425,
           -76.6599
          ],
          [
           "US1NCCR0072",
           34.6858,
           -76.8949
          ],
          [
           "US1NCCR0073",
           34.6985,
           -76.7939
          ],
          [
           "US1NCCR0074",
           34.8024,
           -76.8642
          ],
          [
           "US1NCCR0075",
           34.6982,
           -76.8149
          ],
          [
           "US1NCCR0084",
           34.7313,
           -76.7912
          ],
          [
           "US1NCCR0088",
           34.8149,
           -76.6544
          ],
          [
           "US1NCCR0090",
           34.8418,
           -76.6902
          ],
          [
           "US1NCCR0094",
           34.7056,
           -76.5835
          ],
          [
           "US1NCCR0101",
           34.7258,
           -76.7496
          ],
          [
           "US1NCCR0104",
           34.7374,
           -76.8315
          ],
          [
           "US1NCCR0105",
           34.7543,
           -76.6527
          ],
          [
           "US1NCCR0108",
           34.7646,
           -76.553
          ],
          [
           "US1NCCR0114",
           34.9397,
           -76.6286
          ],
          [
           "US1NCCR0120",
           34.6987,
           -76.7497
          ],
          [
           "US1NCCR0121",
           34.7783,
           -76.5145
          ],
          [
           "US1NCCR0129",
           34.7137,
           -76.6493
          ],
          [
           "US1NCCR0130",
           34.6856,
           -76.526
          ],
          [
           "US1NCCR0135",
           35.0003,
           -76.3105
          ],
          [
           "US1NCDR0015",
           35.5518,
           -75.468
          ],
          [
           "US1NCDR0019",
           35.3578,
           -75.5013
          ],
          [
           "US1NCDR0035",
           35.257,
           -75.5843
          ],
          [
           "US1NCDR0036",
           35.2621,
           -75.5237
          ],
          [
           "US1NCDR0041",
           35.2633,
           -75.5912
          ],
          [
           "US1NCDR0051",
           35.5805,
           -75.4646
          ],
          [
           "US1NCDR0063",
           35.2708,
           -75.5343
          ],
          [
           "US1NCHD0002",
           35.1122,
           -75.9782
          ],
          [
           "US1NCHD0004",
           35.1106,
           -75.9839
          ],
          [
           "US1NCHD0011",
           35.1056,
           -75.9864
          ],
          [
           "US1NCHD0012",
           35.1075,
           -75.9872
          ],
          [
           "US1NCHD0013",
           35.5197,
           -76.0048
          ],
          [
           "US1NCHD0014",
           35.1078,
           -75.9693
          ],
          [
           "US1NCPM0002",
           35.0226,
           -76.7182
          ],
          [
           "US1NCPM0011",
           35.0007,
           -76.7675
          ],
          [
           "US1NCPM0012",
           35.0929,
           -76.6264
          ],
          [
           "US1NCPM0015",
           34.971,
           -76.817
          ],
          [
           "US1NCPM0026",
           35.0226,
           -76.7109
          ],
          [
           "USC00310356",
           34.6997,
           -76.7381
          ],
          [
           "USC00310626",
           34.7,
           -76.6333
          ],
          [
           "USC00310935",
           35.8333,
           -75.55
          ],
          [
           "USC00311606",
           34.9833,
           -76.3
          ],
          [
           "USC00313333",
           35.2603,
           -75.5825
          ],
          [
           "USC00313336",
           35.2511,
           -75.6047
          ],
          [
           "USC00315077",
           34.95,
           -76.2833
          ],
          [
           "USC00315600",
           35.5,
           -76.0167
          ],
          [
           "USC00315830",
           34.7336,
           -76.7358
          ],
          [
           "USC00316096",
           34.7764,
           -76.8769
          ],
          [
           "USC00316135",
           35.4486,
           -76.2108
          ],
          [
           "USC00316349",
           35.1075,
           -75.9872
          ],
          [
           "USC00316447",
           35.8,
           -75.55
          ],
          [
           "USC00316452",
           35.0333,
           -76.7
          ],
          [
           "USC00318547",
           35.5833,
           -75.8
          ],
          [
           "USR0000NCRN",
           34.7833,
           -76.8667
          ],
          [
           "USW00013745",
           35.2167,
           -75.7167
          ],
          [
           "USW00013754",
           34.9,
           -76.8833
          ],
          [
           "USW00093729",
           35.2325,
           -75.6219
          ],
          [
           "USW00093765",
           34.7336,
           -76.6606
          ],
          [
           "USW00093776",
           34.8833,
           -76.8667
          ],
          [
           "VE000000795",
           11.03,
           -64.28
          ],
          [
           "VE000000883",
           11.05,
           -63.92
          ],
          [
           "VE000000897",
           11.03,
           -63.87
          ],
          [
           "VE000001717",
           10.5,
           -63.6
          ],
          [
           "VE000001721",
           10.98,
           -64.17
          ],
          [
           "VE000001740",
           10.9,
           -64.1
          ],
          [
           "VE000001790",
           10.08,
           -64.57
          ],
          [
           "VE000001869",
           10.25,
           -63.93
          ],
          [
           "VE000001893",
           10.98,
           -63.87
          ],
          [
           "VE000005011",
           10.62,
           -66.58
          ],
          [
           "VE000009311",
           10.53,
           -66.12
          ],
          [
           "VE000080405",
           11.8,
           -66.183
          ],
          [
           "VE000080423",
           10.583,
           -62.317
          ],
          [
           "VEM00080419",
           10.107,
           -64.689
          ],
          [
           "VEM00080420",
           10.45,
           -64.13
          ],
          [
           "VEM00080421",
           10.917,
           -63.967
          ],
          [
           "VEM00080435",
           9.749,
           -63.153
          ],
          [
           "VEM00080478",
           9.017,
           -62.617
          ],
          [
           "VQ1VISC0002",
           17.7572,
           -64.6353
          ],
          [
           "VQ1VISC0003",
           17.7663,
           -64.7497
          ],
          [
           "VQ1VISC0004",
           17.7476,
           -64.7245
          ],
          [
           "VQ1VIST0001",
           18.3255,
           -64.8513
          ],
          [
           "VQC00670100",
           17.7167,
           -64.8167
          ],
          [
           "VQC00670240",
           17.7564,
           -64.8625
          ],
          [
           "VQC00670260",
           17.7333,
           -64.7333
          ],
          [
           "VQC00670480",
           17.7183,
           -64.795
          ],
          [
           "VQC00670820",
           18.3333,
           -64.7333
          ],
          [
           "VQC00671310",
           17.7833,
           -64.8167
          ],
          [
           "VQC00671316",
           18.35,
           -64.7833
          ],
          [
           "VQC00671333",
           17.7167,
           -64.6833
          ],
          [
           "VQC00671348",
           18.3453,
           -64.7606
          ],
          [
           "VQC00671620",
           18.3333,
           -64.9
          ],
          [
           "VQC00671625",
           18.35,
           -64.9333
          ],
          [
           "VQC00671740",
           17.7469,
           -64.7014
          ],
          [
           "VQC00671790",
           18.3492,
           -64.7136
          ],
          [
           "VQC00671810",
           17.7603,
           -64.6128
          ],
          [
           "VQC00671980",
           18.3347,
           -64.7942
          ],
          [
           "VQC00672440",
           18.3667,
           -64.9667
          ],
          [
           "VQC00672551",
           18.3347,
           -64.7594
          ],
          [
           "VQC00672560",
           17.7561,
           -64.6494
          ],
          [
           "VQC00672823",
           18.3333,
           -64.9
          ],
          [
           "VQC00672830",
           18.3667,
           -65
          ],
          [
           "VQC00672850",
           18.3667,
           -64.9833
          ],
          [
           "VQC00672860",
           17.7833,
           -64.7833
          ],
          [
           "VQC00672870",
           17.7419,
           -64.6603
          ],
          [
           "VQC00673150",
           17.75,
           -64.8333
          ],
          [
           "VQC00673220",
           17.7,
           -64.8667
          ],
          [
           "VQC00673380",
           18.3167,
           -64.9167
          ],
          [
           "VQC00673609",
           17.6833,
           -64.85
          ],
          [
           "VQC00673677",
           17.7164,
           -64.7117
          ],
          [
           "VQC00673880",
           17.7667,
           -64.8667
          ],
          [
           "VQC00674600",
           17.7333,
           -64.7833
          ],
          [
           "VQC00674820",
           18.3167,
           -64.7333
          ],
          [
           "VQC00674900",
           17.7706,
           -64.7553
          ],
          [
           "VQC00676000",
           17.7456,
           -64.8883
          ],
          [
           "VQC00677600",
           18.3236,
           -64.8542
          ],
          [
           "VQC00678621",
           17.75,
           -64.6
          ],
          [
           "VQC00679222",
           18.15,
           -64.95
          ],
          [
           "VQC00679450",
           18.3503,
           -64.9167
          ],
          [
           "VQW00011624",
           17.7028,
           -64.8056
          ],
          [
           "VQW00011640",
           18.3331,
           -64.9667
          ]
         ],
         "index": [
          2,
          4,
          7,
          22,
          24,
          26,
          28,
          30,
          32,
          34,
          36,
          38,
          40,
          41,
          43,
          45,
          47,
          49,
          50,
          52,
          54,
          56,
          58,
          60,
          62,
          64,
          66,
          68,
          70,
          72,
          74,
          76,
          78,
          80,
          82,
          84,
          85,
          86,
          88,
          90,
          92,
          94,
          96,
          98,
          100,
          102,
          104,
          106,
          108,
          110,
          112,
          114,
          116,
          118,
          120,
          122,
          124,
          126,
          128,
          130,
          132,
          134,
          136,
          138,
          140,
          142,
          143,
          144,
          146,
          148,
          150,
          151,
          153,
          155,
          157,
          159,
          161,
          162,
          163,
          164,
          165,
          166,
          167,
          168,
          169,
          170,
          171,
          172,
          173,
          183,
          185,
          187,
          189,
          191,
          193,
          195,
          197,
          199,
          201,
          203,
          205,
          207,
          209,
          211,
          213,
          219,
          221,
          223,
          225,
          227,
          229,
          231,
          233,
          235,
          236,
          237,
          238,
          239,
          240,
          241,
          242,
          243,
          244,
          245,
          246,
          247,
          248,
          249,
          250,
          251,
          252,
          253,
          254,
          255,
          256,
          257,
          258,
          259,
          260,
          261,
          262,
          263,
          264,
          265,
          266,
          267,
          268,
          269,
          270,
          271,
          272,
          273,
          274,
          275,
          276,
          277,
          278,
          279,
          280,
          281,
          282,
          283,
          284,
          285,
          286,
          287,
          288,
          289,
          290,
          291,
          295,
          297,
          299,
          302,
          304,
          306,
          308,
          309,
          310,
          312,
          314,
          315,
          317,
          318,
          319,
          320,
          322,
          324,
          325,
          326,
          328,
          329,
          331,
          332,
          333,
          335,
          336,
          337,
          339,
          340,
          342,
          344,
          346,
          349,
          350,
          352,
          354,
          356,
          360,
          361,
          363,
          365,
          367,
          368,
          370,
          372,
          374,
          375,
          376,
          377,
          379,
          380,
          382,
          384,
          388,
          389,
          390,
          391,
          393,
          395,
          396,
          397,
          401,
          403,
          405,
          407,
          408,
          410,
          412,
          413,
          417,
          419,
          420,
          422,
          423,
          425,
          427,
          428,
          430,
          431,
          432,
          434,
          436,
          438,
          439,
          440,
          442,
          444,
          445,
          447,
          448,
          449,
          450,
          452,
          454,
          455,
          457,
          459,
          460,
          461,
          462,
          464,
          465,
          466,
          468,
          472,
          473,
          475,
          476,
          477,
          479,
          480,
          482,
          483,
          484,
          485,
          486,
          487,
          489,
          493,
          494,
          495,
          496,
          497,
          498,
          499,
          501,
          503,
          505,
          506,
          508,
          509,
          511,
          512,
          513,
          514,
          516,
          518,
          520,
          521,
          523,
          525,
          527,
          529,
          530,
          534,
          535,
          536,
          537,
          539,
          541,
          544,
          548,
          550,
          553,
          555,
          557,
          559,
          561,
          563,
          565,
          567,
          569,
          575,
          577,
          579,
          581,
          585,
          586,
          587,
          588,
          589,
          590,
          591,
          592,
          593,
          594,
          595,
          596,
          597,
          598,
          599,
          600,
          601,
          602,
          603,
          604,
          605,
          606,
          607,
          608,
          609,
          610,
          611,
          612,
          613,
          614,
          615,
          616,
          617,
          618,
          619,
          620,
          621,
          622,
          623,
          624,
          625,
          626,
          627,
          628,
          629,
          630,
          631,
          632,
          633,
          634,
          635,
          636,
          637,
          638,
          639,
          640,
          641,
          642,
          643,
          644,
          645,
          646,
          647,
          648,
          649,
          650,
          651,
          652,
          653,
          654,
          655,
          656,
          657,
          659,
          661,
          663,
          665,
          667,
          669,
          670,
          672,
          674,
          676,
          678,
          680,
          682,
          684,
          686,
          688,
          690,
          693,
          696,
          699,
          701,
          702,
          703,
          704,
          705,
          706,
          707,
          708,
          709,
          710,
          711,
          712,
          714,
          716,
          718,
          720,
          722,
          724,
          726,
          727,
          728,
          729,
          730,
          731,
          733,
          734,
          738,
          739,
          740,
          742,
          743,
          745,
          747,
          749,
          751,
          752,
          753,
          755,
          757,
          758,
          759,
          760,
          761,
          763,
          764,
          765,
          766,
          767,
          769,
          770,
          771,
          772,
          773,
          775,
          776,
          777,
          779,
          781,
          783,
          784,
          787
         ]
        }
       },
       "height": 500,
       "layout": "IPY_MODEL_6a95ace9ad62481c93737dd551c96b2e",
       "value": "Hello World!"
      }
     },
     "8eb0f82f40784488968c153166bcf79a": {
      "model_module": "keplergl-jupyter",
      "model_module_version": "^0.2.0",
      "model_name": "KeplerGlModal",
      "state": {
       "_model_module_version": "^0.2.0",
       "_view_module_version": "^0.2.0",
       "config": {
        "config": {
         "mapState": {
          "bearing": 0,
          "dragRotate": false,
          "isSplit": false,
          "latitude": 22.86390401696567,
          "longitude": -20.899014065762973,
          "pitch": 0,
          "zoom": 1.8253891876682211
         },
         "mapStyle": {
          "mapStyles": {},
          "styleType": "dark",
          "threeDBuildingColor": [
           9.665468314072013,
           17.18305478057247,
           31.1442867897876
          ],
          "topLayerGroups": {},
          "visibleLayerGroups": {
           "3d building": false,
           "border": false,
           "building": true,
           "label": true,
           "land": true,
           "road": true,
           "water": true
          }
         },
         "visState": {
          "animationConfig": {
           "currentTime": null,
           "speed": 1
          },
          "filters": [],
          "interactionConfig": {
           "brush": {
            "enabled": false,
            "size": 0.5
           },
           "coordinate": {
            "enabled": false
           },
           "geocoder": {
            "enabled": false
           },
           "tooltip": {
            "enabled": true,
            "fieldsToShow": {
             "poly": [],
             "stations": [
              "id"
             ]
            }
           }
          },
          "layerBlending": "normal",
          "layers": [
           {
            "config": {
             "color": [
              23,
              184,
              190
             ],
             "columns": {
              "altitude": null,
              "lat": "latitude",
              "lng": "longitude"
             },
             "dataId": "stations",
             "hidden": false,
             "isVisible": true,
             "label": "Point",
             "textLabel": [
              {
               "alignment": "center",
               "anchor": "start",
               "color": [
                255,
                255,
                255
               ],
               "field": null,
               "offset": [
                0,
                0
               ],
               "size": 18
              }
             ],
             "visConfig": {
              "colorRange": {
               "category": "Uber",
               "colors": [
                "#5A1846",
                "#900C3F",
                "#C70039",
                "#E3611C",
                "#F1920E",
                "#FFC300"
               ],
               "name": "Global Warming",
               "type": "sequential"
              },
              "filled": true,
              "fixedRadius": false,
              "opacity": 0.8,
              "outline": false,
              "radius": 10,
              "radiusRange": [
               0,
               50
              ],
              "strokeColor": null,
              "strokeColorRange": {
               "category": "Uber",
               "colors": [
                "#5A1846",
                "#900C3F",
                "#C70039",
                "#E3611C",
                "#F1920E",
                "#FFC300"
               ],
               "name": "Global Warming",
               "type": "sequential"
              },
              "thickness": 2
             }
            },
            "id": "0otovtl",
            "type": "point",
            "visualChannels": {
             "colorField": null,
             "colorScale": "quantile",
             "sizeField": null,
             "sizeScale": "linear",
             "strokeColorField": null,
             "strokeColorScale": "quantile"
            }
           },
           {
            "config": {
             "color": [
              246,
              209,
              138
             ],
             "columns": {
              "geojson": "_geojson"
             },
             "dataId": "poly",
             "hidden": false,
             "isVisible": true,
             "label": "poly",
             "textLabel": [
              {
               "alignment": "center",
               "anchor": "start",
               "color": [
                255,
                255,
                255
               ],
               "field": null,
               "offset": [
                0,
                0
               ],
               "size": 18
              }
             ],
             "visConfig": {
              "colorRange": {
               "category": "Uber",
               "colors": [
                "#5A1846",
                "#900C3F",
                "#C70039",
                "#E3611C",
                "#F1920E",
                "#FFC300"
               ],
               "name": "Global Warming",
               "type": "sequential"
              },
              "elevationScale": 5,
              "enable3d": false,
              "filled": true,
              "heightRange": [
               0,
               500
              ],
              "opacity": 0.8,
              "radius": 10,
              "radiusRange": [
               0,
               50
              ],
              "sizeRange": [
               0,
               10
              ],
              "strokeColor": [
               183,
               136,
               94
              ],
              "strokeColorRange": {
               "category": "Uber",
               "colors": [
                "#5A1846",
                "#900C3F",
                "#C70039",
                "#E3611C",
                "#F1920E",
                "#FFC300"
               ],
               "name": "Global Warming",
               "type": "sequential"
              },
              "strokeOpacity": 0.8,
              "stroked": true,
              "thickness": 0.5,
              "wireframe": false
             }
            },
            "id": "pg3vq59",
            "type": "geojson",
            "visualChannels": {
             "colorField": null,
             "colorScale": "quantile",
             "heightField": null,
             "heightScale": "linear",
             "radiusField": null,
             "radiusScale": "linear",
             "sizeField": null,
             "sizeScale": "linear",
             "strokeColorField": null,
             "strokeColorScale": "quantile"
            }
           }
          ],
          "splitMaps": []
         }
        },
        "version": "v1"
       },
       "data": {
        "poly": {
         "coordinates": [
          [
           [
            -12.950869,
            53.43105
           ],
           [
            -10.342842,
            35.002107
           ],
           [
            -19.931662,
            13.986127
           ],
           [
            -9.35262,
            0
           ],
           [
            -49.101915,
            0
           ],
           [
            -71.903541,
            13.516013
           ],
           [
            -76.95733,
            34.883146
           ]
          ]
         ],
         "type": "Polygon"
        },
        "stations": {
         "columns": [
          "id",
          "latitude",
          "longitude"
         ],
         "data": [
          [
           "BB000078954",
           13.067,
           -59.483
          ],
          [
           "BDM00078016",
           32.3667,
           -64.6833
          ],
          [
           "BDW00013602",
           32.2667,
           -64.85
          ],
          [
           "CA008204700",
           43.9333,
           -60.0167
          ],
          [
           "CA008204701",
           43.9333,
           -60
          ],
          [
           "CA008204702",
           43.9667,
           -59.7667
          ],
          [
           "CA008400100",
           47.3,
           -54
          ],
          [
           "CA008400102",
           47.3,
           -54
          ],
          [
           "CA008400104",
           47.3,
           -54
          ],
          [
           "CA008400225",
           47.4167,
           -53.2333
          ],
          [
           "CA008400666",
           46.8833,
           -53.9667
          ],
          [
           "CA008400810",
           47,
           -55.1667
          ],
          [
           "CA008400850",
           47.1,
           -52.9333
          ],
          [
           "CA008400QJK",
           47.5833,
           -53.3167
          ],
          [
           "CA008401000",
           46.6667,
           -53.0833
          ],
          [
           "CA008401070",
           46.8667,
           -52.95
          ],
          [
           "CA008401075",
           47.7333,
           -53.2333
          ],
          [
           "CA008401150",
           47.2,
           -52.95
          ],
          [
           "CA008401200",
           47.2167,
           -53.55
          ],
          [
           "CA008401250",
           47.2167,
           -53.5
          ],
          [
           "CA008401251",
           47.2333,
           -53.5167
          ],
          [
           "CA008401528",
           47.2667,
           -53.9167
          ],
          [
           "CA008402075",
           47.7167,
           -53.15
          ],
          [
           "CA008402076",
           47.6833,
           -53.2
          ],
          [
           "CA008402300",
           47.3833,
           -53.1333
          ],
          [
           "CA008402303",
           47.3833,
           -53.1167
          ],
          [
           "CA008402309",
           47.45,
           -53.1
          ],
          [
           "CA008402310",
           47.3833,
           -53.1333
          ],
          [
           "CA008402516",
           46.8667,
           -55.1333
          ],
          [
           "CA008402568",
           47.6167,
           -52.6667
          ],
          [
           "CA008402569",
           47.4167,
           -53.8167
          ],
          [
           "CA008402590",
           47.3167,
           -53.55
          ],
          [
           "CA008402759",
           47.25,
           -52.85
          ],
          [
           "CA008402873",
           47.6333,
           -52.8333
          ],
          [
           "CA008402874",
           47.1333,
           -53.6667
          ],
          [
           "CA008402925",
           47.4667,
           -52.7167
          ],
          [
           "CA008402950",
           47.2833,
           -52.8167
          ],
          [
           "CA008402956",
           47.2333,
           -54.0167
          ],
          [
           "CA008402957",
           47.4,
           -53.6
          ],
          [
           "CA008402R20",
           47.5333,
           -52.8333
          ],
          [
           "CA008402RB0",
           47.5333,
           -52.85
          ],
          [
           "CA008403044",
           47.65,
           -52.8167
          ],
          [
           "CA008403045",
           47.6167,
           -52.8333
          ],
          [
           "CA008403417",
           46.9167,
           -54.1833
          ],
          [
           "CA008403418",
           46.9167,
           -54.1667
          ],
          [
           "CA008403500",
           47.5667,
           -52.7
          ],
          [
           "CA008403501",
           47.5833,
           -52.7333
          ],
          [
           "CA008403505",
           47.6167,
           -52.75
          ],
          [
           "CA008403506",
           47.6167,
           -52.75
          ],
          [
           "CA008403523",
           47.5667,
           -52.8
          ],
          [
           "CA008403600",
           47.5167,
           -52.7833
          ],
          [
           "CA008403603",
           47.5167,
           -52.7833
          ],
          [
           "CA008403605",
           47.5167,
           -52.7833
          ],
          [
           "CA008403615",
           46.9167,
           -55.3833
          ],
          [
           "CA008403616",
           46.9167,
           -55.3833
          ],
          [
           "CA008403617",
           46.6333,
           -53.5833
          ],
          [
           "CA008403618",
           46.7667,
           -53.6167
          ],
          [
           "CA008403619",
           46.9167,
           -55.3833
          ],
          [
           "CA008403620",
           47.2667,
           -53.3333
          ],
          [
           "CA008403621",
           47.2667,
           -53.2833
          ],
          [
           "CA008403622",
           47.2667,
           -53.2833
          ],
          [
           "CA008403623",
           47.1,
           -55.2
          ],
          [
           "CA008403650",
           47.45,
           -53.0667
          ],
          [
           "CA008403669",
           47.5667,
           -52.6833
          ],
          [
           "CA008403860",
           47.6167,
           -53.7333
          ],
          [
           "CA008403875",
           47.5333,
           -52.9167
          ],
          [
           "CA008403950",
           47.2167,
           -52.85
          ],
          [
           "CA008403971",
           46.7667,
           -53.3667
          ],
          [
           "CA008403FN0",
           47.45,
           -53.0667
          ],
          [
           "CA008404100",
           47.7667,
           -53.2167
          ],
          [
           "CA008404201",
           46.95,
           -55.3833
          ],
          [
           "CA008404234",
           47.4167,
           -53.5333
          ],
          [
           "CA008404235",
           47.3167,
           -53.55
          ],
          [
           "CA00840C616",
           46.9167,
           -53.5667
          ],
          [
           "CA00840K0NC",
           47.1333,
           -54.0667
          ],
          [
           "CA00840KN90",
           47.3333,
           -54.5833
          ],
          [
           "CA1NL000002",
           47.564,
           -52.7134
          ],
          [
           "CA1NL000005",
           47.4535,
           -53.0894
          ],
          [
           "CA1NL000011",
           47.5035,
           -52.7973
          ],
          [
           "CA1NL000014",
           47.4274,
           -53.5195
          ],
          [
           "CA1NL000031",
           46.9099,
           -53.5838
          ],
          [
           "CA1NL000050",
           47.5955,
           -52.6871
          ],
          [
           "CA1NL000063",
           47.1556,
           -53.4722
          ],
          [
           "CA1NL000067",
           47.5582,
           -52.7492
          ],
          [
           "CA1NL000070",
           47.2544,
           -53.9756
          ],
          [
           "CA1NL000072",
           47.5939,
           -52.7288
          ],
          [
           "CA1NL000073",
           47.548,
           -52.8882
          ],
          [
           "CA1NL000079",
           47.5196,
           -52.8284
          ],
          [
           "CAW00014508",
           47.3,
           -54
          ],
          [
           "DRM00078458",
           19.75,
           -70.55
          ],
          [
           "DRM00078479",
           18.567,
           -68.363
          ],
          [
           "DRM00078482",
           18.251,
           -71.12
          ],
          [
           "DRM00078486",
           18.433,
           -69.883
          ],
          [
           "DRW00011650",
           18.5,
           -69.75
          ],
          [
           "FG000081405",
           4.833,
           -52.367
          ],
          [
           "FGM00081401",
           5.5,
           -54.033
          ],
          [
           "FGM00081408",
           3.883,
           -51.8
          ],
          [
           "FGM00081415",
           3.633,
           -54.033
          ],
          [
           "GP000078897",
           16.27,
           -61.6
          ],
          [
           "GPM00078890",
           16.333,
           -61
          ],
          [
           "GPM00078894",
           17.9,
           -62.85
          ],
          [
           "GYM00081001",
           6.8,
           -58.15
          ],
          [
           "GYW00010502",
           6.5,
           -58.25
          ],
          [
           "MBM00078922",
           14.767,
           -60.883
          ],
          [
           "MBM00078925",
           14.591,
           -61.003
          ],
          [
           "PO000008506",
           38.52,
           -28.63
          ],
          [
           "PO000008522",
           32.63,
           -16.8997
          ],
          [
           "POM00008501",
           39.455,
           -31.131
          ],
          [
           "POM00008512",
           37.741,
           -25.698
          ],
          [
           "POM00008515",
           36.971,
           -25.171
          ],
          [
           "POM00008521",
           32.683,
           -16.767
          ],
          [
           "POM00008524",
           33.073,
           -16.35
          ],
          [
           "POW00013201",
           38.7303,
           -27.3217
          ],
          [
           "RQ1PRAC0001",
           18.4414,
           -66.6589
          ],
          [
           "RQ1PRAC0002",
           18.4071,
           -66.7603
          ],
          [
           "RQ1PRAL0002",
           18.4774,
           -67.1437
          ],
          [
           "RQ1PRAL0003",
           18.5083,
           -67.1124
          ],
          [
           "RQ1PRAN0002",
           18.2815,
           -67.1431
          ],
          [
           "RQ1PRCG0001",
           18.2273,
           -66.0543
          ],
          [
           "RQ1PRCG0002",
           18.2223,
           -66.0567
          ],
          [
           "RQ1PRCG0003",
           18.2647,
           -66.0501
          ],
          [
           "RQ1PRCL0001",
           18.3871,
           -65.9976
          ],
          [
           "RQ1PRCR0001",
           18.0813,
           -67.1394
          ],
          [
           "RQ1PRCS0001",
           18.338,
           -66.4706
          ],
          [
           "RQ1PRCY0001",
           18.1333,
           -66.1452
          ],
          [
           "RQ1PRFJ0002",
           18.3394,
           -65.6549
          ],
          [
           "RQ1PRGB0002",
           18.2921,
           -66.1163
          ],
          [
           "RQ1PRGB0003",
           18.3042,
           -66.1313
          ],
          [
           "RQ1PRGM0002",
           17.98,
           -66.1277
          ],
          [
           "RQ1PRHM0001",
           18.1456,
           -65.8093
          ],
          [
           "RQ1PRHT0001",
           18.481,
           -66.808
          ],
          [
           "RQ1PRHT0003",
           18.4867,
           -66.8211
          ],
          [
           "RQ1PRIS0001",
           18.4654,
           -67.0336
          ],
          [
           "RQ1PRIS0002",
           18.4962,
           -67.0191
          ],
          [
           "RQ1PRJD0002",
           18.0281,
           -66.5383
          ],
          [
           "RQ1PRJN0001",
           18.2228,
           -65.9161
          ],
          [
           "RQ1PRLJ0001",
           18.0383,
           -67.0533
          ],
          [
           "RQ1PRLJ0002",
           18.0424,
           -67.0276
          ],
          [
           "RQ1PRLM0001",
           18.2563,
           -67.0035
          ],
          [
           "RQ1PRLQ0001",
           18.3537,
           -65.6924
          ],
          [
           "RQ1PRLR0002",
           18.2733,
           -66.888
          ],
          [
           "RQ1PRLR0004",
           18.2667,
           -66.8274
          ],
          [
           "RQ1PRLR0005",
           18.3225,
           -66.8693
          ],
          [
           "RQ1PRMC0001",
           18.3932,
           -67.1069
          ],
          [
           "RQ1PRMY0003",
           18.2222,
           -67.1274
          ],
          [
           "RQ1PRMY0005",
           18.217,
           -67.1167
          ],
          [
           "RQ1PRPC0001",
           18.0046,
           -66.5891
          ],
          [
           "RQ1PRPC0002",
           18.0318,
           -66.5996
          ],
          [
           "RQ1PRPC0004",
           18.0474,
           -66.6514
          ],
          [
           "RQ1PRPC0005",
           18.0374,
           -66.6017
          ],
          [
           "RQ1PRPC0006",
           18.0125,
           -66.5874
          ],
          [
           "RQ1PRQB0001",
           18.4591,
           -66.9194
          ],
          [
           "RQ1PRRN0001",
           18.2981,
           -67.2272
          ],
          [
           "RQ1PRRN0002",
           18.2998,
           -67.2343
          ],
          [
           "RQ1PRRN0003",
           18.3627,
           -67.2497
          ],
          [
           "RQ1PRRN0004",
           18.3188,
           -67.2178
          ],
          [
           "RQ1PRRN0005",
           18.3543,
           -67.2594
          ],
          [
           "RQ1PRSJ0001",
           18.4061,
           -66.0868
          ],
          [
           "RQ1PRSJ0003",
           18.3915,
           -66.02
          ],
          [
           "RQ1PRSJ0006",
           18.4496,
           -66.0772
          ],
          [
           "RQ1PRSJ0008",
           18.4194,
           -66.0788
          ],
          [
           "RQ1PRSJ0009",
           18.4194,
           -66.0789
          ],
          [
           "RQ1PRSS0001",
           18.3679,
           -66.9885
          ],
          [
           "RQ1PRTR0002",
           18.36,
           -66.03
          ],
          [
           "RQ1PRUT0002",
           18.2684,
           -66.7899
          ],
          [
           "RQ1PRVL0002",
           18.1215,
           -66.4982
          ],
          [
           "RQ1PRVQ0001",
           18.1416,
           -65.4598
          ],
          [
           "RQC00660040",
           18.1469,
           -66.4919
          ],
          [
           "RQC00660053",
           18.1614,
           -66.7222
          ],
          [
           "RQC00660061",
           18.1747,
           -66.7978
          ],
          [
           "RQC00660105",
           18.4333,
           -67.15
          ],
          [
           "RQC00660147",
           17.9667,
           -66.2167
          ],
          [
           "RQC00660152",
           17.9556,
           -66.2222
          ],
          [
           "RQC00660158",
           18.1281,
           -66.2642
          ],
          [
           "RQC00660410",
           18.4533,
           -66.6747
          ],
          [
           "RQC00660426",
           18.3494,
           -66.7525
          ],
          [
           "RQC00660662",
           18.4667,
           -66.5
          ],
          [
           "RQC00660668",
           18.4286,
           -66.5631
          ],
          [
           "RQC00660736",
           18.1667,
           -66.3167
          ],
          [
           "RQC00660842",
           18.4167,
           -66.2
          ],
          [
           "RQC00660849",
           18.3833,
           -66.7833
          ],
          [
           "RQC00660900",
           18.1164,
           -67.1133
          ],
          [
           "RQC00660948",
           17.9906,
           -66.8161
          ],
          [
           "RQC00661123",
           18.0833,
           -67.15
          ],
          [
           "RQC00661142",
           18.2258,
           -66.5039
          ],
          [
           "RQC00661300",
           18.2333,
           -66.0333
          ],
          [
           "RQC00661301",
           18.25,
           -66.0167
          ],
          [
           "RQC00661309",
           18.2333,
           -66.05
          ],
          [
           "RQC00661345",
           18.4725,
           -67.1156
          ],
          [
           "RQC00661423",
           18.45,
           -66.6
          ],
          [
           "RQC00661536",
           18.4,
           -66.2167
          ],
          [
           "RQC00661590",
           18.3792,
           -65.8939
          ],
          [
           "RQC00661623",
           18.2833,
           -66.65
          ],
          [
           "RQC00661634",
           18.1167,
           -66.4833
          ],
          [
           "RQC00661701",
           18.0833,
           -66.1
          ],
          [
           "RQC00661712",
           18.05,
           -66.1167
          ],
          [
           "RQC00661845",
           18.4167,
           -66.1167
          ],
          [
           "RQC00661901",
           18.1189,
           -66.1658
          ],
          [
           "RQC00662316",
           17.9833,
           -66.8167
          ],
          [
           "RQC00662330",
           18.2764,
           -66.5194
          ],
          [
           "RQC00662336",
           18.1547,
           -66.562
          ],
          [
           "RQC00662633",
           18.3069,
           -66.4739
          ],
          [
           "RQC00662634",
           18.1833,
           -66.15
          ],
          [
           "RQC00662723",
           18.0664,
           -66.3781
          ],
          [
           "RQC00662801",
           18.3808,
           -67.1569
          ],
          [
           "RQC00662823",
           18.2667,
           -66.1833
          ],
          [
           "RQC00662825",
           18.2667,
           -66.1833
          ],
          [
           "RQC00662934",
           18.3267,
           -66.3592
          ],
          [
           "RQC00663023",
           18.0836,
           -66.6547
          ],
          [
           "RQC00663145",
           18.3,
           -65.2833
          ],
          [
           "RQC00663409",
           18.4722,
           -66.3058
          ],
          [
           "RQC00663431",
           18.3361,
           -66.6667
          ],
          [
           "RQC00663532",
           17.9728,
           -66.9458
          ],
          [
           "RQC00663657",
           18.3103,
           -65.6631
          ],
          [
           "RQC00663850",
           18.45,
           -66.5833
          ],
          [
           "RQC00663871",
           18.15,
           -66.7333
          ],
          [
           "RQC00663904",
           18.3964,
           -66.9244
          ],
          [
           "RQC00664115",
           18.1167,
           -66.0667
          ],
          [
           "RQC00664126",
           18.0742,
           -66.4967
          ],
          [
           "RQC00664193",
           17.9783,
           -66.0875
          ],
          [
           "RQC00664211",
           18,
           -66.8667
          ],
          [
           "RQC00664260",
           18.1667,
           -66.5333
          ],
          [
           "RQC00664271",
           18.25,
           -65.9667
          ],
          [
           "RQC00664276",
           18.2583,
           -65.9922
          ],
          [
           "RQC00664330",
           18.1242,
           -67.0531
          ],
          [
           "RQC00664331",
           18.2158,
           -67.0883
          ],
          [
           "RQC00664340",
           18.45,
           -66.7667
          ],
          [
           "RQC00664613",
           18.1333,
           -65.8167
          ],
          [
           "RQC00664614",
           18.1506,
           -66.7719
          ],
          [
           "RQC00664677",
           18.1667,
           -66.8833
          ],
          [
           "RQC00664685",
           18.1833,
           -66.9
          ],
          [
           "RQC00664702",
           18.4653,
           -67.0525
          ],
          [
           "RQC00664867",
           18.0717,
           -66.1428
          ],
          [
           "RQC00664910",
           18.215,
           -66.5931
          ],
          [
           "RQC00664911",
           18.2,
           -66.5833
          ],
          [
           "RQC00664976",
           17.9667,
           -66.15
          ],
          [
           "RQC00665020",
           18.0514,
           -66.4986
          ],
          [
           "RQC00665064",
           18.2264,
           -65.9114
          ],
          [
           "RQC00665075",
           18.2333,
           -65.7667
          ],
          [
           "RQC00665097",
           18.0331,
           -67.0722
          ],
          [
           "RQC00665120",
           18.3,
           -65.7833
          ],
          [
           "RQC00665123",
           18.3167,
           -66.1
          ],
          [
           "RQC00665175",
           18.2833,
           -66.8833
          ],
          [
           "RQC00665474",
           18.4333,
           -66.7167
          ],
          [
           "RQC00665693",
           17.9722,
           -67.0461
          ],
          [
           "RQC00665807",
           18.4308,
           -66.4661
          ],
          [
           "RQC00665906",
           18.1833,
           -66.9833
          ],
          [
           "RQC00665908",
           18.1511,
           -66.9889
          ],
          [
           "RQC00665911",
           18.1725,
           -66.9872
          ],
          [
           "RQC00666017",
           18.2167,
           -66.4833
          ],
          [
           "RQC00666050",
           18.0094,
           -65.8989
          ],
          [
           "RQC00666073",
           18.1875,
           -67.1378
          ],
          [
           "RQC00666083",
           18.2539,
           -67.1486
          ],
          [
           "RQC00666128",
           17.9833,
           -66.15
          ],
          [
           "RQC00666250",
           18.0833,
           -67.85
          ],
          [
           "RQC00666255",
           18.0833,
           -67.85
          ],
          [
           "RQC00666258",
           18.0908,
           -67.9442
          ],
          [
           "RQC00666270",
           18.3794,
           -66.5153
          ],
          [
           "RQC00666343",
           18.2972,
           -65.29
          ],
          [
           "RQC00666361",
           18.4736,
           -67.0289
          ],
          [
           "RQC00666390",
           18.3344,
           -66.4078
          ],
          [
           "RQC00666427",
           18.2167,
           -65.6833
          ],
          [
           "RQC00666432",
           18.2333,
           -65.7333
          ],
          [
           "RQC00666440",
           18.2097,
           -66.9956
          ],
          [
           "RQC00666514",
           18.2886,
           -66.3433
          ],
          [
           "RQC00666725",
           18.3169,
           -65.8664
          ],
          [
           "RQC00666730",
           18.385,
           -66.43
          ],
          [
           "RQC00666740",
           18.2833,
           -66.35
          ],
          [
           "RQC00666805",
           18.265,
           -65.7208
          ],
          [
           "RQC00666900",
           18.0025,
           -66.0128
          ],
          [
           "RQC00666904",
           18.0333,
           -66.0333
          ],
          [
           "RQC00666982",
           18.0833,
           -66.7333
          ],
          [
           "RQC00666983",
           18.0586,
           -66.7183
          ],
          [
           "RQC00666992",
           18.2708,
           -65.7592
          ],
          [
           "RQC00667292",
           18.0258,
           -66.5253
          ],
          [
           "RQC00667295",
           17.985,
           -66.6294
          ],
          [
           "RQC00667297",
           18.0167,
           -66.5667
          ],
          [
           "RQC00667348",
           18.0167,
           -66.5167
          ],
          [
           "RQC00667492",
           18.0789,
           -67.1769
          ],
          [
           "RQC00667843",
           18.4719,
           -66.9358
          ],
          [
           "RQC00668122",
           18.3667,
           -67.25
          ],
          [
           "RQC00668126",
           18.3375,
           -67.2497
          ],
          [
           "RQC00668144",
           18.2425,
           -65.785
          ],
          [
           "RQC00668155",
           18.2833,
           -65.7833
          ],
          [
           "RQC00668178",
           18.0333,
           -66.4667
          ],
          [
           "RQC00668245",
           18.3333,
           -65.8167
          ],
          [
           "RQC00668278",
           18.0167,
           -66.35
          ],
          [
           "RQC00668301",
           18.4,
           -66.0667
          ],
          [
           "RQC00668306",
           18.3906,
           -66.0542
          ],
          [
           "RQC00668535",
           18.0833,
           -66.9333
          ],
          [
           "RQC00668536",
           18.0889,
           -66.93
          ],
          [
           "RQC00668623",
           17.9833,
           -66.2333
          ],
          [
           "RQC00668634",
           18.3833,
           -66
          ],
          [
           "RQC00668684",
           18.1333,
           -66.7333
          ],
          [
           "RQC00668745",
           18.2167,
           -65.7333
          ],
          [
           "RQC00668757",
           18.0833,
           -67.1
          ],
          [
           "RQC00668811",
           18.45,
           -66.1
          ],
          [
           "RQC00668814",
           18.4311,
           -65.9917
          ],
          [
           "RQC00668815",
           18.1517,
           -65.9589
          ],
          [
           "RQC00668817",
           18.1,
           -66
          ],
          [
           "RQC00668822",
           18.2,
           -65.9667
          ],
          [
           "RQC00668881",
           18.3469,
           -67.0119
          ],
          [
           "RQC00668940",
           17.9692,
           -66.3772
          ],
          [
           "RQC00668955",
           18.0097,
           -66.8847
          ],
          [
           "RQC00669116",
           18.3578,
           -65.8283
          ],
          [
           "RQC00669415",
           18.4356,
           -66.1678
          ],
          [
           "RQC00669421",
           18.4333,
           -66.2667
          ],
          [
           "RQC00669432",
           18.1731,
           -66.4928
          ],
          [
           "RQC00669466",
           18.1667,
           -66.5167
          ],
          [
           "RQC00669521",
           18.3283,
           -66.0164
          ],
          [
           "RQC00669608",
           18.2617,
           -66.6864
          ],
          [
           "RQC00669763",
           18.1167,
           -65.4167
          ],
          [
           "RQC00669766",
           18.1333,
           -65.4333
          ],
          [
           "RQC00669774",
           18.1094,
           -66.5056
          ],
          [
           "RQC00669829",
           18.0628,
           -65.8733
          ],
          [
           "RQC00669860",
           18.0436,
           -66.8606
          ],
          [
           "RQC00669862",
           18.0167,
           -66.85
          ],
          [
           "RQC00669884",
           17.9833,
           -66.0667
          ],
          [
           "RQW00011603",
           18.4981,
           -67.1294
          ],
          [
           "RQW00011618",
           18.4667,
           -66.1167
          ],
          [
           "RQW00011630",
           18.255,
           -65.6408
          ],
          [
           "RQW00011631",
           18.4667,
           -66.1
          ],
          [
           "RQW00011637",
           17.9667,
           -66.4
          ],
          [
           "RQW00011641",
           18.4325,
           -66.0108
          ],
          [
           "SP000060010",
           28.3089,
           -16.4992
          ],
          [
           "SP000060040",
           28.9517,
           -13.6003
          ],
          [
           "SPE00120197",
           28.4444,
           -13.8631
          ],
          [
           "SPE00120215",
           27.9225,
           -15.3892
          ],
          [
           "SPE00120431",
           27.8189,
           -17.8889
          ],
          [
           "SPE00120449",
           28.6331,
           -17.755
          ],
          [
           "SPE00120458",
           28.4631,
           -16.2553
          ],
          [
           "SPE00120467",
           28.4775,
           -16.3292
          ],
          [
           "SPE00120476",
           28.0475,
           -16.5606
          ],
          [
           "TDM00078962",
           11.15,
           -60.833
          ],
          [
           "TDM00078970",
           10.583,
           -61.35
          ],
          [
           "TDW00011610",
           10.6167,
           -61.2167
          ],
          [
           "TDW00011621",
           10.6833,
           -61.6167
          ],
          [
           "US1NCCN0002",
           34.8796,
           -76.9127
          ],
          [
           "US1NCCN0012",
           34.8679,
           -76.892
          ],
          [
           "US1NCCN0019",
           34.9258,
           -76.7858
          ],
          [
           "US1NCCN0020",
           34.8957,
           -76.9161
          ],
          [
           "US1NCCN0023",
           34.8546,
           -76.7482
          ],
          [
           "US1NCCN0026",
           34.9385,
           -76.8176
          ],
          [
           "US1NCCN0035",
           34.892,
           -76.7666
          ],
          [
           "US1NCCN0059",
           34.9297,
           -76.7234
          ],
          [
           "US1NCCN0076",
           34.8719,
           -76.7564
          ],
          [
           "US1NCCN0093",
           34.8806,
           -76.8862
          ],
          [
           "US1NCCR0001",
           34.7857,
           -76.8633
          ],
          [
           "US1NCCR0002",
           34.8418,
           -76.7515
          ],
          [
           "US1NCCR0003",
           34.738,
           -76.78
          ],
          [
           "US1NCCR0004",
           34.7598,
           -76.5208
          ],
          [
           "US1NCCR0008",
           34.7125,
           -76.6466
          ],
          [
           "US1NCCR0009",
           34.7971,
           -76.6708
          ],
          [
           "US1NCCR0012",
           34.73,
           -76.74
          ],
          [
           "US1NCCR0015",
           34.7421,
           -76.7268
          ],
          [
           "US1NCCR0016",
           34.7302,
           -76.8314
          ],
          [
           "US1NCCR0018",
           34.7811,
           -76.8957
          ],
          [
           "US1NCCR0020",
           34.7315,
           -76.5176
          ],
          [
           "US1NCCR0022",
           34.7396,
           -76.7242
          ],
          [
           "US1NCCR0023",
           34.8513,
           -76.692
          ],
          [
           "US1NCCR0025",
           34.7864,
           -76.7291
          ],
          [
           "US1NCCR0029",
           34.7245,
           -76.7295
          ],
          [
           "US1NCCR0031",
           34.7232,
           -76.5206
          ],
          [
           "US1NCCR0033",
           34.7829,
           -76.904
          ],
          [
           "US1NCCR0040",
           34.7361,
           -76.7831
          ],
          [
           "US1NCCR0043",
           34.6995,
           -76.7216
          ],
          [
           "US1NCCR0045",
           34.7345,
           -76.7725
          ],
          [
           "US1NCCR0053",
           34.7646,
           -76.852
          ],
          [
           "US1NCCR0057",
           34.7766,
           -76.8672
          ],
          [
           "US1NCCR0061",
           34.742,
           -76.7459
          ],
          [
           "US1NCCR0064",
           34.7581,
           -76.5233
          ],
          [
           "US1NCCR0065",
           34.7913,
           -76.4661
          ],
          [
           "US1NCCR0070",
           34.7425,
           -76.6599
          ],
          [
           "US1NCCR0072",
           34.6858,
           -76.8949
          ],
          [
           "US1NCCR0073",
           34.6985,
           -76.7939
          ],
          [
           "US1NCCR0074",
           34.8024,
           -76.8642
          ],
          [
           "US1NCCR0075",
           34.6982,
           -76.8149
          ],
          [
           "US1NCCR0084",
           34.7313,
           -76.7912
          ],
          [
           "US1NCCR0088",
           34.8149,
           -76.6544
          ],
          [
           "US1NCCR0090",
           34.8418,
           -76.6902
          ],
          [
           "US1NCCR0094",
           34.7056,
           -76.5835
          ],
          [
           "US1NCCR0101",
           34.7258,
           -76.7496
          ],
          [
           "US1NCCR0104",
           34.7374,
           -76.8315
          ],
          [
           "US1NCCR0105",
           34.7543,
           -76.6527
          ],
          [
           "US1NCCR0108",
           34.7646,
           -76.553
          ],
          [
           "US1NCCR0114",
           34.9397,
           -76.6286
          ],
          [
           "US1NCCR0120",
           34.6987,
           -76.7497
          ],
          [
           "US1NCCR0121",
           34.7783,
           -76.5145
          ],
          [
           "US1NCCR0129",
           34.7137,
           -76.6493
          ],
          [
           "US1NCCR0130",
           34.6856,
           -76.526
          ],
          [
           "US1NCCR0135",
           35.0003,
           -76.3105
          ],
          [
           "US1NCDR0015",
           35.5518,
           -75.468
          ],
          [
           "US1NCDR0019",
           35.3578,
           -75.5013
          ],
          [
           "US1NCDR0035",
           35.257,
           -75.5843
          ],
          [
           "US1NCDR0036",
           35.2621,
           -75.5237
          ],
          [
           "US1NCDR0041",
           35.2633,
           -75.5912
          ],
          [
           "US1NCDR0051",
           35.5805,
           -75.4646
          ],
          [
           "US1NCDR0063",
           35.2708,
           -75.5343
          ],
          [
           "US1NCHD0002",
           35.1122,
           -75.9782
          ],
          [
           "US1NCHD0004",
           35.1106,
           -75.9839
          ],
          [
           "US1NCHD0011",
           35.1056,
           -75.9864
          ],
          [
           "US1NCHD0012",
           35.1075,
           -75.9872
          ],
          [
           "US1NCHD0013",
           35.5197,
           -76.0048
          ],
          [
           "US1NCHD0014",
           35.1078,
           -75.9693
          ],
          [
           "US1NCPM0002",
           35.0226,
           -76.7182
          ],
          [
           "US1NCPM0011",
           35.0007,
           -76.7675
          ],
          [
           "US1NCPM0012",
           35.0929,
           -76.6264
          ],
          [
           "US1NCPM0015",
           34.971,
           -76.817
          ],
          [
           "US1NCPM0026",
           35.0226,
           -76.7109
          ],
          [
           "USC00310356",
           34.6997,
           -76.7381
          ],
          [
           "USC00310626",
           34.7,
           -76.6333
          ],
          [
           "USC00310935",
           35.8333,
           -75.55
          ],
          [
           "USC00311606",
           34.9833,
           -76.3
          ],
          [
           "USC00313333",
           35.2603,
           -75.5825
          ],
          [
           "USC00313336",
           35.2511,
           -75.6047
          ],
          [
           "USC00315077",
           34.95,
           -76.2833
          ],
          [
           "USC00315600",
           35.5,
           -76.0167
          ],
          [
           "USC00315830",
           34.7336,
           -76.7358
          ],
          [
           "USC00316096",
           34.7764,
           -76.8769
          ],
          [
           "USC00316135",
           35.4486,
           -76.2108
          ],
          [
           "USC00316349",
           35.1075,
           -75.9872
          ],
          [
           "USC00316447",
           35.8,
           -75.55
          ],
          [
           "USC00316452",
           35.0333,
           -76.7
          ],
          [
           "USC00318547",
           35.5833,
           -75.8
          ],
          [
           "USR0000NCRN",
           34.7833,
           -76.8667
          ],
          [
           "USW00013745",
           35.2167,
           -75.7167
          ],
          [
           "USW00013754",
           34.9,
           -76.8833
          ],
          [
           "USW00093729",
           35.2325,
           -75.6219
          ],
          [
           "USW00093765",
           34.7336,
           -76.6606
          ],
          [
           "USW00093776",
           34.8833,
           -76.8667
          ],
          [
           "VE000000795",
           11.03,
           -64.28
          ],
          [
           "VE000000883",
           11.05,
           -63.92
          ],
          [
           "VE000000897",
           11.03,
           -63.87
          ],
          [
           "VE000001717",
           10.5,
           -63.6
          ],
          [
           "VE000001721",
           10.98,
           -64.17
          ],
          [
           "VE000001740",
           10.9,
           -64.1
          ],
          [
           "VE000001790",
           10.08,
           -64.57
          ],
          [
           "VE000001869",
           10.25,
           -63.93
          ],
          [
           "VE000001893",
           10.98,
           -63.87
          ],
          [
           "VE000005011",
           10.62,
           -66.58
          ],
          [
           "VE000009311",
           10.53,
           -66.12
          ],
          [
           "VE000080405",
           11.8,
           -66.183
          ],
          [
           "VE000080423",
           10.583,
           -62.317
          ],
          [
           "VEM00080419",
           10.107,
           -64.689
          ],
          [
           "VEM00080420",
           10.45,
           -64.13
          ],
          [
           "VEM00080421",
           10.917,
           -63.967
          ],
          [
           "VEM00080435",
           9.749,
           -63.153
          ],
          [
           "VEM00080478",
           9.017,
           -62.617
          ],
          [
           "VQ1VISC0002",
           17.7572,
           -64.6353
          ],
          [
           "VQ1VISC0003",
           17.7663,
           -64.7497
          ],
          [
           "VQ1VISC0004",
           17.7476,
           -64.7245
          ],
          [
           "VQ1VIST0001",
           18.3255,
           -64.8513
          ],
          [
           "VQC00670100",
           17.7167,
           -64.8167
          ],
          [
           "VQC00670240",
           17.7564,
           -64.8625
          ],
          [
           "VQC00670260",
           17.7333,
           -64.7333
          ],
          [
           "VQC00670480",
           17.7183,
           -64.795
          ],
          [
           "VQC00670820",
           18.3333,
           -64.7333
          ],
          [
           "VQC00671310",
           17.7833,
           -64.8167
          ],
          [
           "VQC00671316",
           18.35,
           -64.7833
          ],
          [
           "VQC00671333",
           17.7167,
           -64.6833
          ],
          [
           "VQC00671348",
           18.3453,
           -64.7606
          ],
          [
           "VQC00671620",
           18.3333,
           -64.9
          ],
          [
           "VQC00671625",
           18.35,
           -64.9333
          ],
          [
           "VQC00671740",
           17.7469,
           -64.7014
          ],
          [
           "VQC00671790",
           18.3492,
           -64.7136
          ],
          [
           "VQC00671810",
           17.7603,
           -64.6128
          ],
          [
           "VQC00671980",
           18.3347,
           -64.7942
          ],
          [
           "VQC00672440",
           18.3667,
           -64.9667
          ],
          [
           "VQC00672551",
           18.3347,
           -64.7594
          ],
          [
           "VQC00672560",
           17.7561,
           -64.6494
          ],
          [
           "VQC00672823",
           18.3333,
           -64.9
          ],
          [
           "VQC00672830",
           18.3667,
           -65
          ],
          [
           "VQC00672850",
           18.3667,
           -64.9833
          ],
          [
           "VQC00672860",
           17.7833,
           -64.7833
          ],
          [
           "VQC00672870",
           17.7419,
           -64.6603
          ],
          [
           "VQC00673150",
           17.75,
           -64.8333
          ],
          [
           "VQC00673220",
           17.7,
           -64.8667
          ],
          [
           "VQC00673380",
           18.3167,
           -64.9167
          ],
          [
           "VQC00673609",
           17.6833,
           -64.85
          ],
          [
           "VQC00673677",
           17.7164,
           -64.7117
          ],
          [
           "VQC00673880",
           17.7667,
           -64.8667
          ],
          [
           "VQC00674600",
           17.7333,
           -64.7833
          ],
          [
           "VQC00674820",
           18.3167,
           -64.7333
          ],
          [
           "VQC00674900",
           17.7706,
           -64.7553
          ],
          [
           "VQC00676000",
           17.7456,
           -64.8883
          ],
          [
           "VQC00677600",
           18.3236,
           -64.8542
          ],
          [
           "VQC00678621",
           17.75,
           -64.6
          ],
          [
           "VQC00679222",
           18.15,
           -64.95
          ],
          [
           "VQC00679450",
           18.3503,
           -64.9167
          ],
          [
           "VQW00011624",
           17.7028,
           -64.8056
          ],
          [
           "VQW00011640",
           18.3331,
           -64.9667
          ]
         ],
         "index": [
          2,
          4,
          7,
          22,
          24,
          26,
          28,
          30,
          32,
          34,
          36,
          38,
          40,
          41,
          43,
          45,
          47,
          49,
          50,
          52,
          54,
          56,
          58,
          60,
          62,
          64,
          66,
          68,
          70,
          72,
          74,
          76,
          78,
          80,
          82,
          84,
          85,
          86,
          88,
          90,
          92,
          94,
          96,
          98,
          100,
          102,
          104,
          106,
          108,
          110,
          112,
          114,
          116,
          118,
          120,
          122,
          124,
          126,
          128,
          130,
          132,
          134,
          136,
          138,
          140,
          142,
          143,
          144,
          146,
          148,
          150,
          151,
          153,
          155,
          157,
          159,
          161,
          162,
          163,
          164,
          165,
          166,
          167,
          168,
          169,
          170,
          171,
          172,
          173,
          183,
          185,
          187,
          189,
          191,
          193,
          195,
          197,
          199,
          201,
          203,
          205,
          207,
          209,
          211,
          213,
          219,
          221,
          223,
          225,
          227,
          229,
          231,
          233,
          235,
          236,
          237,
          238,
          239,
          240,
          241,
          242,
          243,
          244,
          245,
          246,
          247,
          248,
          249,
          250,
          251,
          252,
          253,
          254,
          255,
          256,
          257,
          258,
          259,
          260,
          261,
          262,
          263,
          264,
          265,
          266,
          267,
          268,
          269,
          270,
          271,
          272,
          273,
          274,
          275,
          276,
          277,
          278,
          279,
          280,
          281,
          282,
          283,
          284,
          285,
          286,
          287,
          288,
          289,
          290,
          291,
          295,
          297,
          299,
          302,
          304,
          306,
          308,
          309,
          310,
          312,
          314,
          315,
          317,
          318,
          319,
          320,
          322,
          324,
          325,
          326,
          328,
          329,
          331,
          332,
          333,
          335,
          336,
          337,
          339,
          340,
          342,
          344,
          346,
          349,
          350,
          352,
          354,
          356,
          360,
          361,
          363,
          365,
          367,
          368,
          370,
          372,
          374,
          375,
          376,
          377,
          379,
          380,
          382,
          384,
          388,
          389,
          390,
          391,
          393,
          395,
          396,
          397,
          401,
          403,
          405,
          407,
          408,
          410,
          412,
          413,
          417,
          419,
          420,
          422,
          423,
          425,
          427,
          428,
          430,
          431,
          432,
          434,
          436,
          438,
          439,
          440,
          442,
          444,
          445,
          447,
          448,
          449,
          450,
          452,
          454,
          455,
          457,
          459,
          460,
          461,
          462,
          464,
          465,
          466,
          468,
          472,
          473,
          475,
          476,
          477,
          479,
          480,
          482,
          483,
          484,
          485,
          486,
          487,
          489,
          493,
          494,
          495,
          496,
          497,
          498,
          499,
          501,
          503,
          505,
          506,
          508,
          509,
          511,
          512,
          513,
          514,
          516,
          518,
          520,
          521,
          523,
          525,
          527,
          529,
          530,
          534,
          535,
          536,
          537,
          539,
          541,
          544,
          548,
          550,
          553,
          555,
          557,
          559,
          561,
          563,
          565,
          567,
          569,
          575,
          577,
          579,
          581,
          585,
          586,
          587,
          588,
          589,
          590,
          591,
          592,
          593,
          594,
          595,
          596,
          597,
          598,
          599,
          600,
          601,
          602,
          603,
          604,
          605,
          606,
          607,
          608,
          609,
          610,
          611,
          612,
          613,
          614,
          615,
          616,
          617,
          618,
          619,
          620,
          621,
          622,
          623,
          624,
          625,
          626,
          627,
          628,
          629,
          630,
          631,
          632,
          633,
          634,
          635,
          636,
          637,
          638,
          639,
          640,
          641,
          642,
          643,
          644,
          645,
          646,
          647,
          648,
          649,
          650,
          651,
          652,
          653,
          654,
          655,
          656,
          657,
          659,
          661,
          663,
          665,
          667,
          669,
          670,
          672,
          674,
          676,
          678,
          680,
          682,
          684,
          686,
          688,
          690,
          693,
          696,
          699,
          701,
          702,
          703,
          704,
          705,
          706,
          707,
          708,
          709,
          710,
          711,
          712,
          714,
          716,
          718,
          720,
          722,
          724,
          726,
          727,
          728,
          729,
          730,
          731,
          733,
          734,
          738,
          739,
          740,
          742,
          743,
          745,
          747,
          749,
          751,
          752,
          753,
          755,
          757,
          758,
          759,
          760,
          761,
          763,
          764,
          765,
          766,
          767,
          769,
          770,
          771,
          772,
          773,
          775,
          776,
          777,
          779,
          781,
          783,
          784,
          787
         ]
        }
       },
       "height": 480,
       "layout": "IPY_MODEL_45109ce5b1464a28bc6fe3441be3310e",
       "value": "Hello World!"
      }
     },
     "e5137b4cbd754cdcbdae5157d91e7737": {
      "model_module": "@jupyter-widgets/base",
      "model_module_version": "1.2.0",
      "model_name": "LayoutModel",
      "state": {}
     }
    },
    "version_major": 2,
    "version_minor": 0
   }
  }
 },
 "nbformat": 4,
 "nbformat_minor": 4
}
